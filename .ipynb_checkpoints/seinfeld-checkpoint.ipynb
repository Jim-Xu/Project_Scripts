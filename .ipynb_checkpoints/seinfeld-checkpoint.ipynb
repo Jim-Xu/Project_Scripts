{
 "cells": [
  {
   "cell_type": "code",
   "execution_count": 4,
   "metadata": {},
   "outputs": [],
   "source": [
    "import numpy as np\n",
    "import seaborn as sns\n",
    "import matplotlib.pyplot as plt\n",
    "import pandas as pd"
   ]
  },
  {
   "cell_type": "code",
   "execution_count": 5,
   "metadata": {},
   "outputs": [],
   "source": [
    "size_left = np.array([0, 0.2, 0.4, 0.6, 0.8, 1.0, 1.2, 1.4, 1.6, 1.8, 2.1, 2.7, 3.6, 5.1])\n",
    "size_right = np.array([0.2, 0.4, 0.6, 0.8, 1.0, 1.2, 1.4, 1.6, 1.8, 2.1, 2.7, 3.6, 5.1, 10])\n",
    "mean_of_interval = np.array([0.1, 0.3, 0.5, 0.7, 0.9, 1.1, 1.3, 1.5, 1.7, 1.95, 2.4, 3.15, 4.35, 7.5])\n",
    "number_of_particals = np.array([10, 80, 132, 142, 138, 112, 75, 65, 52, 65, 62, 32, 35, 35])"
   ]
  },
  {
   "cell_type": "code",
   "execution_count": 6,
   "metadata": {},
   "outputs": [],
   "source": [
    "data = {'size_left' : size_left,\n",
    "     'size_right' : size_right,\n",
    "     'size_interval' : size_right - size_left,\n",
    "     'mean_of_interval': mean_of_interval,\n",
    "     'number_of_particals' : number_of_particals}\n",
    "frame = pd.DataFrame(data)"
   ]
  },
  {
   "cell_type": "markdown",
   "metadata": {},
   "source": [
    "# 8.1"
   ]
  },
  {
   "cell_type": "markdown",
   "metadata": {},
   "source": [
    "## **$n_N(D_p)$**"
   ]
  },
  {
   "cell_type": "code",
   "execution_count": 7,
   "metadata": {},
   "outputs": [
    {
     "data": {
      "text/plain": [
       "Text(0, 0.5, '$n_N(D_p)$')"
      ]
     },
     "execution_count": 7,
     "metadata": {},
     "output_type": "execute_result"
    },
    {
     "data": {
      "image/png": "[encoded data removed]",
      "text/plain": [
       "<Figure size 432x288 with 1 Axes>"
      ]
     },
     "metadata": {
      "needs_background": "light"
     },
     "output_type": "display_data"
    }
   ],
   "source": [
    "a = number_of_particals/frame.size_interval # n_N(D_p)\n",
    "plt.step(frame.size_left, a, color = \"k\")\n",
    "plt.xlim(0,6)\n",
    "# plt.ylim(0,200)\n",
    "plt.xlabel('$D_p$')\n",
    "plt.ylabel('$n_N(D_p)$')"
   ]
  },
  {
   "cell_type": "markdown",
   "metadata": {},
   "source": [
    "## **$\\bar{N}_n(D_p)=n_N(Dp)/N_t$**"
   ]
  },
  {
   "cell_type": "code",
   "execution_count": 8,
   "metadata": {},
   "outputs": [
    {
     "data": {
      "text/plain": [
       "Text(0, 0.5, '$n_N(Dp)/N_t$')"
      ]
     },
     "execution_count": 8,
     "metadata": {},
     "output_type": "execute_result"
    },
    {
     "data": {
      "image/png": "[encoded data removed]",
      "text/plain": [
       "<Figure size 432x288 with 1 Axes>"
      ]
     },
     "metadata": {
      "needs_background": "light"
     },
     "output_type": "display_data"
    }
   ],
   "source": [
    "b = sum(frame.number_of_particals) # Nt\n",
    "plt.step(frame.size_left, a/b, color = \"k\")\n",
    "plt.xlim(0,6)\n",
    "# plt.ylim(0,1000)\n",
    "plt.xlabel('$D_p$')\n",
    "plt.ylabel('$n_N(Dp)/N_t$')"
   ]
  },
  {
   "cell_type": "markdown",
   "metadata": {},
   "source": [
    "## **$n_N^{\\circ}(logDp)$**"
   ]
  },
  {
   "cell_type": "code",
   "execution_count": 9,
   "metadata": {},
   "outputs": [
    {
     "name": "stderr",
     "output_type": "stream",
     "text": [
      "/data/keeling/a/xx24/anaconda3/lib/python3.9/site-packages/pandas/core/arraylike.py:364: RuntimeWarning: divide by zero encountered in log10\n",
      "  result = getattr(ufunc, method)(*inputs, **kwargs)\n"
     ]
    },
    {
     "data": {
      "text/plain": [
       "Text(0, 0.5, '$n_N^{\\\\circ}(logDp)/N_t$')"
      ]
     },
     "execution_count": 9,
     "metadata": {},
     "output_type": "execute_result"
    },
    {
     "data": {
      "image/png": "[encoded data removed]",
      "text/plain": [
       "<Figure size 432x288 with 1 Axes>"
      ]
     },
     "metadata": {
      "needs_background": "light"
     },
     "output_type": "display_data"
    }
   ],
   "source": [
    "c = number_of_particals/(np.log10(frame.size_right)-np.log10(frame.size_left)) # c= n_N(logDp)\n",
    "plt.step(np.log10(frame.size_left), c, color = \"k\")\n",
    "# plt.xlim(0,6)\n",
    "# plt.ylim(0,20)\n",
    "plt.xscale(\"linear\")\n",
    "plt.xlabel('$logD_p$')\n",
    "plt.ylabel('$n_N^{\\circ}(logDp)/N_t$')"
   ]
  },
  {
   "cell_type": "markdown",
   "metadata": {},
   "source": [
    "## **$\\bar{N}_n^{\\circ}(logD_p)=n_N^{\\circ}(logDp)/N_t$**"
   ]
  },
  {
   "cell_type": "code",
   "execution_count": 10,
   "metadata": {},
   "outputs": [
    {
     "name": "stderr",
     "output_type": "stream",
     "text": [
      "/data/keeling/a/xx24/anaconda3/lib/python3.9/site-packages/pandas/core/arraylike.py:364: RuntimeWarning: divide by zero encountered in log10\n",
      "  result = getattr(ufunc, method)(*inputs, **kwargs)\n"
     ]
    },
    {
     "data": {
      "text/plain": [
       "Text(0, 0.5, '$n_N^{\\\\circ}(logDp)/N_t$')"
      ]
     },
     "execution_count": 10,
     "metadata": {},
     "output_type": "execute_result"
    },
    {
     "data": {
      "image/png": "[encoded data removed]",
      "text/plain": [
       "<Figure size 432x288 with 1 Axes>"
      ]
     },
     "metadata": {
      "needs_background": "light"
     },
     "output_type": "display_data"
    }
   ],
   "source": [
    "c = number_of_particals/(np.log10(frame.size_right)-np.log10(frame.size_left)) # c= n_N(logDp)\n",
    "plt.step(np.log10(frame.size_left), c/b, color = \"k\")\n",
    "# plt.xlim(0,6)\n",
    "# plt.ylim(0,20)\n",
    "plt.xscale(\"linear\")\n",
    "plt.xlabel('$logD_p$')\n",
    "plt.ylabel('$n_N^{\\circ}(logDp)/N_t$')"
   ]
  },
  {
   "cell_type": "markdown",
   "metadata": {},
   "source": [
    "# 8.2"
   ]
  },
  {
   "cell_type": "markdown",
   "metadata": {},
   "source": [
    "## **$n_S(D_p)$**"
   ]
  },
  {
   "cell_type": "code",
   "execution_count": 11,
   "metadata": {},
   "outputs": [
    {
     "data": {
      "text/plain": [
       "Text(0, 0.5, '$n_S(D_p)$')"
      ]
     },
     "execution_count": 11,
     "metadata": {},
     "output_type": "execute_result"
    },
    {
     "data": {
      "image/png": "[encoded data removed]",
      "text/plain": [
       "<Figure size 432x288 with 1 Axes>"
      ]
     },
     "metadata": {
      "needs_background": "light"
     },
     "output_type": "display_data"
    }
   ],
   "source": [
    "d = np.pi * mean_of_interval ** 2 * a # n_s(Dp) = pi*r^2*n_N(D_p)\n",
    "plt.step(frame.size_left, d, color = \"k\")\n",
    "plt.xlim(0,6)\n",
    "# plt.ylim(0,3000)\n",
    "plt.xlabel('$D_p$')\n",
    "plt.ylabel('$n_S(D_p)$')"
   ]
  },
  {
   "cell_type": "markdown",
   "metadata": {},
   "source": [
    "## **$n_S^{\\circ}(logD_p)$**"
   ]
  },
  {
   "cell_type": "code",
   "execution_count": 12,
   "metadata": {},
   "outputs": [
    {
     "name": "stderr",
     "output_type": "stream",
     "text": [
      "/data/keeling/a/xx24/anaconda3/lib/python3.9/site-packages/pandas/core/arraylike.py:364: RuntimeWarning: divide by zero encountered in log10\n",
      "  result = getattr(ufunc, method)(*inputs, **kwargs)\n"
     ]
    },
    {
     "data": {
      "text/plain": [
       "Text(0, 0.5, '$n_S^{\\\\circ}(logD_p)$')"
      ]
     },
     "execution_count": 12,
     "metadata": {},
     "output_type": "execute_result"
    },
    {
     "data": {
      "image/png": "[encoded data removed]",
      "text/plain": [
       "<Figure size 432x288 with 1 Axes>"
      ]
     },
     "metadata": {
      "needs_background": "light"
     },
     "output_type": "display_data"
    }
   ],
   "source": [
    "e = np.pi * mean_of_interval ** 2 * c # n_s(Dp) = pi*r^2*n_N(log D_p)\n",
    "plt.step(np.log10(frame.size_left), e, color = \"k\")\n",
    "# plt.xlim(0,6)\n",
    "# plt.ylim(0,3000)\n",
    "plt.xlabel('logD_p')\n",
    "plt.ylabel('$n_S^{\\circ}(logD_p)$')"
   ]
  },
  {
   "cell_type": "markdown",
   "metadata": {},
   "source": [
    "## **$n_V(D_p)$**"
   ]
  },
  {
   "cell_type": "code",
   "execution_count": null,
   "metadata": {},
   "outputs": [
    {
     "data": {
      "text/plain": [
       "Text(0, 0.5, '$n_V(D_p)$')"
      ]
     },
     "execution_count": 13,
     "metadata": {},
     "output_type": "execute_result"
    },
    {
     "data": {
      "image/png": "[encoded data removed]",
      "text/plain": [
       "<Figure size 432x288 with 1 Axes>"
      ]
     },
     "metadata": {
      "needs_background": "light"
     },
     "output_type": "display_data"
    }
   ],
   "source": [
    "e = (np.pi * mean_of_interval ** 3 * a)/6 # n_v(Dp) = pi*r^3*n_N(D_p)/6\n",
    "plt.step(frame.size_left, e, color = \"k\")\n",
    "plt.xlim(0,6)\n",
    "# plt.ylim(0,3000)\n",
    "plt.xlabel('$D_p$')\n",
    "plt.ylabel('$n_V(D_p)$')"
   ]
  },
  {
   "cell_type": "markdown",
   "metadata": {},
   "source": [
    "## **$n_V^{\\circ}(logD_p)$**"
   ]
  },
  {
   "cell_type": "code",
   "execution_count": null,
   "metadata": {},
   "outputs": [
    {
     "name": "stderr",
     "output_type": "stream",
     "text": [
      "/data/keeling/a/xx24/anaconda3/lib/python3.9/site-packages/pandas/core/arraylike.py:364: RuntimeWarning: divide by zero encountered in log10\n",
      "  result = getattr(ufunc, method)(*inputs, **kwargs)\n"
     ]
    },
    {
     "data": {
      "text/plain": [
       "Text(0, 0.5, '$n_V^{\\\\circ}(logD_p)$')"
      ]
     },
     "execution_count": 14,
     "metadata": {},
     "output_type": "execute_result"
    },
    {
     "data": {
      "image/png": "[encoded data removed]",
      "text/plain": [
       "<Figure size 432x288 with 1 Axes>"
      ]
     },
     "metadata": {
      "needs_background": "light"
     },
     "output_type": "display_data"
    }
   ],
   "source": [
    "f = (np.pi * mean_of_interval ** 3 * c)/6 # n_v(Dp) = pi*r^3*n_N(log D_p)/6\n",
    "plt.step(np.log10(frame.size_left), f, color = \"k\")\n",
    "# plt.xlim(0,6)\n",
    "# plt.ylim(0,3000)\n",
    "plt.xlabel('logD_p')\n",
    "plt.ylabel('$n_V^{\\circ}(logD_p)$')"
   ]
  },
  {
   "cell_type": "markdown",
   "metadata": {},
   "source": [
    "# 8.6"
   ]
  },
  {
   "cell_type": "markdown",
   "metadata": {},
   "source": [
    "## a"
   ]
  },
  {
   "cell_type": "code",
   "execution_count": 3,
   "metadata": {},
   "outputs": [],
   "source": [
    "size_left = np.array([0.1, 0.2, 0.4, 0.7, 1.0, 2.0, 4.0, 7.0, 10.0])\n",
    "size_right = np.array([0.2, 0.4, 0.7, 1.0, 2.0, 4.0, 7.0, 10.0, 20.0])\n",
    "number_of_particals = np.array([50, 460, 1055, 980, 1705, 680, 102, 10, 2])\n",
    "ro = 1.5"
   ]
  },
  {
   "cell_type": "code",
   "execution_count": null,
   "metadata": {},
   "outputs": [],
   "source": [
    "delta_dp = size_right - size_left\n",
    "delta_log_dp = np.log10(size_right) -np.log10(size_left)\n",
    "mean_of_interval = (size_left + size_right)/2\n",
    "geo_mean_of_size_interval = np.sqrt(size_left*size_right)\n",
    "s = np.pi * mean_of_interval **2\n",
    "v = np.pi * mean_of_interval **3 /6\n",
    "m = ro * v"
   ]
  },
  {
   "cell_type": "code",
   "execution_count": null,
   "metadata": {},
   "outputs": [],
   "source": [
    "delta_N_delta_dp = number_of_particals/delta_dp #ΔNi/ΔDpi,\n",
    "delta_N_N_delta_dp = number_of_particals/(sum(number_of_particals) * delta_dp) #ΔNi/N ΔDpi\n",
    "delta_S_delta_dp = s/delta_dp #ΔSi/ΔDpi\n",
    "delta_S_S_delta_dp = s/(sum(s) * delta_dp) #ΔSi/SΔDpi\n",
    "delta_M_delta_dp = m/delta_dp #ΔMi/ΔDpi\n",
    "delta_M_M_delta_dp = m/(sum(m) * delta_dp) #ΔMi/MΔDpi\n",
    "delta_N_delta_log_dp = number_of_particals/delta_log_dp #ΔNi/Δlog Dpi\n",
    "delta_N_N_delta_log_dp = number_of_particals/(sum(number_of_particals) * delta_log_dp) #ΔNi/NΔlog Dpi\n",
    "delta_S_delta_log_dp = s/delta_log_dp #ΔSi/Δlog Dpi\n",
    "delta_S_S_delta_log_dp = s/(sum(s) * delta_log_dp) #ΔSi/ SΔlog Dpi\n",
    "delta_M_delta_log_dp = m/delta_log_dp #ΔMi/Δlog Dpi\n",
    "delta_M_M_delta_log_dp = m/(sum(m) * delta_log_dp) #ΔMi/M Δlog Dpi"
   ]
  },
  {
   "cell_type": "code",
   "execution_count": 1,
   "metadata": {},
   "outputs": [
    {
     "name": "stdout",
     "output_type": "stream",
     "text": [
      "   r_left  r_right  $N_k$  Geometric mean of size interval  \\\n",
      "0     0.1      0.2     50                         0.141421   \n",
      "1     0.2      0.4    460                         0.282843   \n",
      "2     0.4      0.7   1055                         0.529150   \n",
      "3     0.7      1.0    980                         0.836660   \n",
      "4     1.0      2.0   1705                         1.414214   \n",
      "5     2.0      4.0    680                         2.828427   \n",
      "6     4.0      7.0    102                         5.291503   \n",
      "7     7.0     10.0     10                         8.366600   \n",
      "8    10.0     20.0      2                        14.142136   \n",
      "\n",
      "   delta_N_delta_dp$\\DeltaN/\\DeltaD_p$  delta_N_N_delta_dp  delta_S_delta_dp  \\\n",
      "0                           500.000000            0.099128          0.706858   \n",
      "1                          2300.000000            0.455987          1.413717   \n",
      "2                          3516.666667            0.697198          3.167773   \n",
      "3                          3266.666667            0.647634          7.566002   \n",
      "4                          1705.000000            0.338025          7.068583   \n",
      "5                           340.000000            0.067407         14.137167   \n",
      "6                            34.000000            0.006741         31.677726   \n",
      "7                             3.333333            0.000661         75.660023   \n",
      "8                             0.200000            0.000040         70.685835   \n",
      "\n",
      "   delta_S_S_delta_dp  delta_M_M_delta_dp  delta_N_delta_log_dp  \\\n",
      "0            0.026507            0.000008            166.096405   \n",
      "1            0.106029            0.000032           1528.086924   \n",
      "2            0.435569            0.000132           4340.884095   \n",
      "3            1.607775            0.000489           6326.582311   \n",
      "4            2.650719            0.000806           5663.887402   \n",
      "5           10.602875            0.003225           2258.911105   \n",
      "6           43.556873            0.013246            419.687372   \n",
      "7          160.777549            0.048895             64.556962   \n",
      "8          265.071880            0.080613              6.643856   \n",
      "\n",
      "   delta_N_N_delta_log_dp  delta_S_delta_log_dp  delta_S_S_delta_log_dp  \\\n",
      "0                0.032930              0.234813                0.000220   \n",
      "1                0.302951              0.939253                0.000880   \n",
      "2                0.860604              3.910218                0.003662   \n",
      "3                1.254279             14.653144                0.013723   \n",
      "4                1.122896             23.481326                0.021991   \n",
      "5                0.447841             93.925304                0.087962   \n",
      "6                0.083205            391.021810                0.366198   \n",
      "7                0.012799           1465.314378                1.372290   \n",
      "8                0.001317           2348.132602                2.199062   \n",
      "\n",
      "   delta_M_delta_log_dp  delta_M_M_delta_log_dp  \n",
      "0              0.008805                0.000003  \n",
      "1              0.070444                0.000021  \n",
      "2              0.537655                0.000164  \n",
      "3              3.113793                0.000947  \n",
      "4              8.805497                0.002678  \n",
      "5             70.443978                0.021423  \n",
      "6            537.654989                0.163510  \n",
      "7           3113.793054                0.946955  \n",
      "8           8805.497258                2.677896  \n"
     ]
    }
   ],
   "source": [
    "data1 = {'size_left': size_left,\n",
    "        'size_right': size_right,\n",
    "        'number_of_particles': number_of_particals,\n",
    "        'geo_mean_of_size_interval': geo_mean_of_size_interval,\n",
    "        'delta_N_delta_dp$': delta_N_delta_dp,\n",
    "        'delta_N_N_delta_dp': delta_N_N_delta_dp,\n",
    "        'delta_S_delta_dp': delta_S_delta_dp,\n",
    "        'delta_S_S_delta_dp': delta_S_S_delta_dp,\n",
    "        'delta_S_S_delta_dp': delta_M_delta_dp,\n",
    "        'delta_M_M_delta_dp': delta_M_M_delta_dp,\n",
    "        'delta_N_delta_log_dp': delta_N_delta_log_dp,\n",
    "        'delta_N_N_delta_log_dp': delta_N_N_delta_log_dp,\n",
    "        'delta_S_delta_log_dp': delta_S_delta_log_dp,\n",
    "        'delta_S_S_delta_log_dp': delta_S_S_delta_log_dp,\n",
    "        'delta_M_delta_log_dp': delta_M_delta_log_dp,\n",
    "        'delta_M_M_delta_log_dp': delta_M_M_delta_log_dp\n",
    "}\n",
    "f1= pd.DataFrame(data1)\n",
    "print(f1)"
   ]
  },
  {
   "cell_type": "markdown",
   "metadata": {},
   "source": [
    "## b"
   ]
  },
  {
   "cell_type": "markdown",
   "metadata": {},
   "source": [
    "### $\\Delta N_i / \\Delta logD_{pi}$"
   ]
  },
  {
   "cell_type": "code",
   "execution_count": 51,
   "metadata": {},
   "outputs": [
    {
     "data": {
      "text/plain": [
       "Text(0, 0.5, '$\\\\Delta N_i / \\\\Delta logD_p$')"
      ]
     },
     "execution_count": 51,
     "metadata": {},
     "output_type": "execute_result"
    },
    {
     "data": {
      "image/png": "[encoded data removed]",
      "text/plain": [
       "<Figure size 432x288 with 1 Axes>"
      ]
     },
     "metadata": {
      "needs_background": "light"
     },
     "output_type": "display_data"
    }
   ],
   "source": [
    "plt.step(np.log10(mean_of_interval), delta_N_delta_log_dp, color = \"k\")\n",
    "plt.xlabel('$logD_{pi}$')\n",
    "plt.ylabel('$\\Delta N_i / \\Delta logD_p$')"
   ]
  },
  {
   "cell_type": "markdown",
   "metadata": {},
   "source": [
    "### $\\Delta S_i / \\Delta logD_{pi}$"
   ]
  },
  {
   "cell_type": "code",
   "execution_count": 52,
   "metadata": {},
   "outputs": [
    {
     "data": {
      "text/plain": [
       "Text(0, 0.5, '$\\\\Delta S_i / \\\\Delta logD_{pi}$')"
      ]
     },
     "execution_count": 52,
     "metadata": {},
     "output_type": "execute_result"
    },
    {
     "data": {
      "image/png": "[encoded data removed]",
      "text/plain": [
       "<Figure size 432x288 with 1 Axes>"
      ]
     },
     "metadata": {
      "needs_background": "light"
     },
     "output_type": "display_data"
    }
   ],
   "source": [
    "plt.step(np.log10(mean_of_interval), delta_S_delta_log_dp, color = \"k\")\n",
    "plt.xlabel('$logD_{pi}$')\n",
    "plt.ylabel('$\\Delta S_i / \\Delta logD_{pi}$')"
   ]
  },
  {
   "cell_type": "markdown",
   "metadata": {},
   "source": [
    "### $\\Delta M_i / \\Delta logD_{pi}$"
   ]
  },
  {
   "cell_type": "code",
   "execution_count": 53,
   "metadata": {},
   "outputs": [
    {
     "data": {
      "text/plain": [
       "Text(0, 0.5, '$\\\\Delta S_i / \\\\Delta logD_{pi}$')"
      ]
     },
     "execution_count": 53,
     "metadata": {},
     "output_type": "execute_result"
    },
    {
     "data": {
      "image/png": "[encoded data removed]",
      "text/plain": [
       "<Figure size 432x288 with 1 Axes>"
      ]
     },
     "metadata": {
      "needs_background": "light"
     },
     "output_type": "display_data"
    }
   ],
   "source": [
    "plt.step(np.log10(mean_of_interval), delta_M_delta_log_dp, color = \"k\")\n",
    "plt.xlabel('$logD_{pi}$')\n",
    "plt.ylabel('$\\Delta S_i / \\Delta logD_{pi}$')"
   ]
  },
  {
   "cell_type": "markdown",
   "metadata": {},
   "source": [
    "## c"
   ]
  },
  {
   "cell_type": "markdown",
   "metadata": {},
   "source": [
    "Geometric Mean Diamter: $\\bar{D}_{pg}$"
   ]
  },
  {
   "cell_type": "code",
   "execution_count": 54,
   "metadata": {},
   "outputs": [
    {
     "name": "stdout",
     "output_type": "stream",
     "text": [
      "0.25904676053816056\n"
     ]
    }
   ],
   "source": [
    "geo_mean_dia = sum(number_of_particals*delta_log_dp)/sum(number_of_particals)\n",
    "print(geo_mean_dia)"
   ]
  },
  {
   "cell_type": "code",
   "execution_count": 55,
   "metadata": {},
   "outputs": [
    {
     "name": "stdout",
     "output_type": "stream",
     "text": [
      "0.43811132876569797\n"
     ]
    }
   ],
   "source": [
    "geo_mean_dia_std = np.sqrt(sum(number_of_particals*(delta_log_dp - geo_mean_dia**2))/sum(number_of_particals))\n",
    "print(geo_mean_dia_std)"
   ]
  },
  {
   "cell_type": "code",
   "execution_count": 56,
   "metadata": {},
   "outputs": [
    {
     "data": {
      "text/plain": [
       "Text(0, 0.5, '$\\\\Delta N_i / \\\\Delta logD_p$')"
      ]
     },
     "execution_count": 56,
     "metadata": {},
     "output_type": "execute_result"
    },
    {
     "data": {
      "image/png": "[encoded data removed]",
      "text/plain": [
       "<Figure size 432x288 with 1 Axes>"
      ]
     },
     "metadata": {
      "needs_background": "light"
     },
     "output_type": "display_data"
    }
   ],
   "source": [
    "plt.plot(np.log10(mean_of_interval), delta_N_delta_log_dp, color = \"r\")\n",
    "plt.plot(np.log10(mean_of_interval), delta_S_delta_log_dp, color = \"g\")\n",
    "plt.plot(np.log10(mean_of_interval), delta_M_delta_log_dp, color = \"b\")\n",
    "plt.axvline(x=geo_mean_dia)\n",
    "plt.xlabel('$logD_{pi}$')\n",
    "plt.ylabel('$\\Delta N_i / \\Delta logD_p$')"
   ]
  },
  {
   "cell_type": "code",
   "execution_count": null,
   "metadata": {},
   "outputs": [],
   "source": []
  }
 ],
 "metadata": {
  "interpreter": {
   "hash": "016567e00e1917e3311eb648fa0f4418732f68f0653f269a203fb620fea407f6"
  },
  "kernelspec": {
   "display_name": "Python 3 (ipykernel)",
   "language": "python",
   "name": "python3"
  },
  "language_info": {
   "codemirror_mode": {
    "name": "ipython",
    "version": 3
   },
   "file_extension": ".py",
   "mimetype": "text/x-python",
   "name": "python",
   "nbconvert_exporter": "python",
   "pygments_lexer": "ipython3",
   "version": "3.9.7"
  }
 },
 "nbformat": 4,
 "nbformat_minor": 4
}
