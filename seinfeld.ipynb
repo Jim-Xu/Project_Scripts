{
 "cells": [
  {
   "cell_type": "code",
   "execution_count": 1,
   "metadata": {},
   "outputs": [],
   "source": [
    "import numpy as np\n",
    "import matplotlib.pyplot as plt\n",
    "import pandas as pd\n",
    "import math"
   ]
  },
  {
   "cell_type": "code",
   "execution_count": 30,
   "metadata": {},
   "outputs": [],
   "source": [
    "size_left = np.array([0, 0.2, 0.4, 0.6, 0.8, 1.0, 1.2, 1.4, 1.6, 1.8, 2.1, 2.7, 3.6, 5.1])\n",
    "size_right = np.array([0.2, 0.4, 0.6, 0.8, 1.0, 1.2, 1.4, 1.6, 1.8, 2.1, 2.7, 3.6, 5.1, 10])\n",
    "mean_of_interval = np.array([0.1, 0.3, 0.5, 0.7, 0.9, 1.1, 1.3, 1.5, 1.7, 1.95, 2.4, 3.15, 4.35, 7.5])\n",
    "number_of_particals = np.array([10, 80, 132, 142, 138, 112, 75, 65, 52, 65, 62, 32, 35, 35])"
   ]
  },
  {
   "cell_type": "code",
   "execution_count": 31,
   "metadata": {},
   "outputs": [],
   "source": [
    "data = {'size_left' : size_left,\n",
    "     'size_right' : size_right,\n",
    "     'size_interval' : size_right - size_left,\n",
    "     'mean_of_interval': mean_of_interval,\n",
    "     'number_of_particals' : number_of_particals}\n",
    "frame = pd.DataFrame(data)\n"
   ]
  },
  {
   "cell_type": "markdown",
   "metadata": {},
   "source": [
    "# 8.1"
   ]
  },
  {
   "cell_type": "markdown",
   "metadata": {},
   "source": [
    "## **$n_N(D_p)$**"
   ]
  },
  {
   "cell_type": "code",
   "execution_count": 32,
   "metadata": {},
   "outputs": [
    {
     "data": {
      "text/plain": [
       "Text(0, 0.5, '$n_N(D_p)$')"
      ]
     },
     "execution_count": 32,
     "metadata": {},
     "output_type": "execute_result"
    },
    {
     "data": {
      "image/png": "[encoded data removed]",
      "text/plain": [
       "<Figure size 432x288 with 1 Axes>"
      ]
     },
     "metadata": {
      "needs_background": "light"
     },
     "output_type": "display_data"
    }
   ],
   "source": [
    "a = number_of_particals/frame.size_interval # n_N(D_p)\n",
    "plt.step(frame.size_left, a, color = \"k\")\n",
    "plt.xlim(0,6)\n",
    "# plt.ylim(0,200)\n",
    "plt.xlabel('$D_p$')\n",
    "plt.ylabel('$n_N(D_p)$')"
   ]
  },
  {
   "cell_type": "markdown",
   "metadata": {},
   "source": [
    "## **$\\bar{N}_n(D_p)=n_N(Dp)/N_t$**"
   ]
  },
  {
   "cell_type": "code",
   "execution_count": 33,
   "metadata": {},
   "outputs": [
    {
     "data": {
      "text/plain": [
       "Text(0, 0.5, '$n_N(Dp)/N_t$')"
      ]
     },
     "execution_count": 33,
     "metadata": {},
     "output_type": "execute_result"
    },
    {
     "data": {
      "image/png": "[encoded data removed]",
      "text/plain": [
       "<Figure size 432x288 with 1 Axes>"
      ]
     },
     "metadata": {
      "needs_background": "light"
     },
     "output_type": "display_data"
    }
   ],
   "source": [
    "b = sum(frame.number_of_particals) # Nt\n",
    "plt.step(frame.size_left, a/b, color = \"k\")\n",
    "plt.xlim(0,6)\n",
    "# plt.ylim(0,1000)\n",
    "plt.xlabel('$D_p$')\n",
    "plt.ylabel('$n_N(Dp)/N_t$')"
   ]
  },
  {
   "cell_type": "markdown",
   "metadata": {},
   "source": [
    "## **$n_N^{\\circ}(logDp)$**"
   ]
  },
  {
   "cell_type": "code",
   "execution_count": 34,
   "metadata": {},
   "outputs": [
    {
     "name": "stderr",
     "output_type": "stream",
     "text": [
      "/data/keeling/a/xx24/anaconda3/lib/python3.9/site-packages/pandas/core/arraylike.py:364: RuntimeWarning: divide by zero encountered in log10\n",
      "  result = getattr(ufunc, method)(*inputs, **kwargs)\n"
     ]
    },
    {
     "data": {
      "text/plain": [
       "Text(0, 0.5, '$n_N^{\\\\circ}(logDp)/N_t$')"
      ]
     },
     "execution_count": 34,
     "metadata": {},
     "output_type": "execute_result"
    },
    {
     "data": {
      "image/png": "[encoded data removed]",
      "text/plain": [
       "<Figure size 432x288 with 1 Axes>"
      ]
     },
     "metadata": {
      "needs_background": "light"
     },
     "output_type": "display_data"
    }
   ],
   "source": [
    "c = number_of_particals/(np.log10(frame.size_right)-np.log10(frame.size_left)) # c= n_N(logDp)\n",
    "plt.step(np.log10(frame.size_left), c, color = \"k\")\n",
    "# plt.xlim(0,6)\n",
    "# plt.ylim(0,20)\n",
    "plt.xscale(\"linear\")\n",
    "plt.xlabel('$logD_p$')\n",
    "plt.ylabel('$n_N^{\\circ}(logDp)/N_t$')"
   ]
  },
  {
   "cell_type": "markdown",
   "metadata": {},
   "source": [
    "## **$\\bar{N}_n^{\\circ}(logD_p)=n_N^{\\circ}(logDp)/N_t$**"
   ]
  },
  {
   "cell_type": "code",
   "execution_count": 35,
   "metadata": {},
   "outputs": [
    {
     "name": "stderr",
     "output_type": "stream",
     "text": [
      "/data/keeling/a/xx24/anaconda3/lib/python3.9/site-packages/pandas/core/arraylike.py:364: RuntimeWarning: divide by zero encountered in log10\n",
      "  result = getattr(ufunc, method)(*inputs, **kwargs)\n"
     ]
    },
    {
     "data": {
      "text/plain": [
       "Text(0, 0.5, '$n_N^{\\\\circ}(logDp)/N_t$')"
      ]
     },
     "execution_count": 35,
     "metadata": {},
     "output_type": "execute_result"
    },
    {
     "data": {
      "image/png": "[encoded data removed]",
      "text/plain": [
       "<Figure size 432x288 with 1 Axes>"
      ]
     },
     "metadata": {
      "needs_background": "light"
     },
     "output_type": "display_data"
    }
   ],
   "source": [
    "c = number_of_particals/(np.log10(frame.size_right)-np.log10(frame.size_left)) # c= n_N(logDp)\n",
    "plt.step(np.log10(frame.size_left), c/b, color = \"k\")\n",
    "# plt.xlim(0,6)\n",
    "# plt.ylim(0,20)\n",
    "plt.xscale(\"linear\")\n",
    "plt.xlabel('$logD_p$')\n",
    "plt.ylabel('$n_N^{\\circ}(logDp)/N_t$')"
   ]
  },
  {
   "cell_type": "markdown",
   "metadata": {},
   "source": [
    "# 8.2"
   ]
  },
  {
   "cell_type": "markdown",
   "metadata": {},
   "source": [
    "## **$n_S(D_p)$**"
   ]
  },
  {
   "cell_type": "code",
   "execution_count": 36,
   "metadata": {},
   "outputs": [
    {
     "data": {
      "text/plain": [
       "Text(0, 0.5, '$n_S(D_p)$')"
      ]
     },
     "execution_count": 36,
     "metadata": {},
     "output_type": "execute_result"
    },
    {
     "data": {
      "image/png": "[encoded data removed]",
      "text/plain": [
       "<Figure size 432x288 with 1 Axes>"
      ]
     },
     "metadata": {
      "needs_background": "light"
     },
     "output_type": "display_data"
    }
   ],
   "source": [
    "d = np.pi * mean_of_interval ** 2 * a # n_s(Dp) = pi*r^2*n_N(D_p)\n",
    "plt.step(frame.size_left, d, color = \"k\")\n",
    "plt.xlim(0,6)\n",
    "# plt.ylim(0,3000)\n",
    "plt.xlabel('$D_p$')\n",
    "plt.ylabel('$n_S(D_p)$')"
   ]
  },
  {
   "cell_type": "markdown",
   "metadata": {},
   "source": [
    "## **$n_S^{\\circ}(logD_p)$**"
   ]
  },
  {
   "cell_type": "code",
   "execution_count": 37,
   "metadata": {},
   "outputs": [
    {
     "name": "stderr",
     "output_type": "stream",
     "text": [
      "/data/keeling/a/xx24/anaconda3/lib/python3.9/site-packages/pandas/core/arraylike.py:364: RuntimeWarning: divide by zero encountered in log10\n",
      "  result = getattr(ufunc, method)(*inputs, **kwargs)\n"
     ]
    },
    {
     "data": {
      "text/plain": [
       "Text(0, 0.5, '$n_S^{\\\\circ}(logD_p)$')"
      ]
     },
     "execution_count": 37,
     "metadata": {},
     "output_type": "execute_result"
    },
    {
     "data": {
      "image/png": "[encoded data removed]",
      "text/plain": [
       "<Figure size 432x288 with 1 Axes>"
      ]
     },
     "metadata": {
      "needs_background": "light"
     },
     "output_type": "display_data"
    }
   ],
   "source": [
    "e = np.pi * mean_of_interval ** 2 * c # n_s(Dp) = pi*r^2*n_N(log D_p)\n",
    "plt.step(np.log10(frame.size_left), e, color = \"k\")\n",
    "# plt.xlim(0,6)\n",
    "# plt.ylim(0,3000)\n",
    "plt.xlabel('logD_p')\n",
    "plt.ylabel('$n_S^{\\circ}(logD_p)$')"
   ]
  },
  {
   "cell_type": "markdown",
   "metadata": {},
   "source": [
    "## **$n_V(D_p)$**"
   ]
  },
  {
   "cell_type": "code",
   "execution_count": 38,
   "metadata": {},
   "outputs": [
    {
     "data": {
      "text/plain": [
       "Text(0, 0.5, '$n_V(D_p)$')"
      ]
     },
     "execution_count": 38,
     "metadata": {},
     "output_type": "execute_result"
    },
    {
     "data": {
      "image/png": "[encoded data removed]",
      "text/plain": [
       "<Figure size 432x288 with 1 Axes>"
      ]
     },
     "metadata": {
      "needs_background": "light"
     },
     "output_type": "display_data"
    }
   ],
   "source": [
    "e = (np.pi * mean_of_interval ** 3 * a)/6 # n_v(Dp) = pi*r^3*n_N(D_p)/6\n",
    "plt.step(frame.size_left, e, color = \"k\")\n",
    "plt.xlim(0,6)\n",
    "# plt.ylim(0,3000)\n",
    "plt.xlabel('$D_p$')\n",
    "plt.ylabel('$n_V(D_p)$')"
   ]
  },
  {
   "cell_type": "markdown",
   "metadata": {},
   "source": [
    "## **$n_V^{\\circ}(logD_p)$**"
   ]
  },
  {
   "cell_type": "code",
   "execution_count": 39,
   "metadata": {},
   "outputs": [
    {
     "name": "stderr",
     "output_type": "stream",
     "text": [
      "/data/keeling/a/xx24/anaconda3/lib/python3.9/site-packages/pandas/core/arraylike.py:364: RuntimeWarning: divide by zero encountered in log10\n",
      "  result = getattr(ufunc, method)(*inputs, **kwargs)\n"
     ]
    },
    {
     "data": {
      "text/plain": [
       "Text(0, 0.5, '$n_V^{\\\\circ}(logD_p)$')"
      ]
     },
     "execution_count": 39,
     "metadata": {},
     "output_type": "execute_result"
    },
    {
     "data": {
      "image/png": "[encoded data removed]",
      "text/plain": [
       "<Figure size 432x288 with 1 Axes>"
      ]
     },
     "metadata": {
      "needs_background": "light"
     },
     "output_type": "display_data"
    }
   ],
   "source": [
    "f = (np.pi * mean_of_interval ** 3 * c)/6 # n_v(Dp) = pi*r^3*n_N(log D_p)/6\n",
    "plt.step(np.log10(frame.size_left), f, color = \"k\")\n",
    "# plt.xlim(0,6)\n",
    "# plt.ylim(0,3000)\n",
    "plt.xlabel('logD_p')\n",
    "plt.ylabel('$n_V^{\\circ}(logD_p)$')"
   ]
  },
  {
   "cell_type": "markdown",
   "metadata": {},
   "source": [
    "# 8.6"
   ]
  },
  {
   "cell_type": "markdown",
   "metadata": {},
   "source": [
    "## a"
   ]
  },
  {
   "cell_type": "code",
   "execution_count": 40,
   "metadata": {},
   "outputs": [],
   "source": [
    "size_left = np.array([0.1, 0.2, 0.4, 0.7, 1.0, 2.0, 4.0, 7.0, 10.0])\n",
    "size_right = np.array([0.2, 0.4, 0.7, 1.0, 2.0, 4.0, 7.0, 10.0, 20.0])\n",
    "number_of_particals = np.array([50, 460, 1055, 980, 1705, 680, 102, 10, 2])\n",
    "ro = 1.5"
   ]
  },
  {
   "cell_type": "code",
   "execution_count": 41,
   "metadata": {},
   "outputs": [],
   "source": [
    "delta_dp = size_right - size_left\n",
    "delta_log_dp = np.log10(size_right) -np.log10(size_left)\n",
    "mean_of_interval = (size_left + size_right)/2\n",
    "geo_mean_of_size_interval = np.sqrt(size_left*size_right)\n",
    "s = np.pi * mean_of_interval **2\n",
    "v = np.pi * mean_of_interval **3 /6\n",
    "m = ro * v"
   ]
  },
  {
   "cell_type": "code",
   "execution_count": 42,
   "metadata": {},
   "outputs": [],
   "source": [
    "delta_N_delta_dp = number_of_particals/delta_dp #ΔNi/ΔDpi,\n",
    "delta_N_N_delta_dp = number_of_particals/(sum(number_of_particals) * delta_dp) #ΔNi/N ΔDpi\n",
    "delta_S_delta_dp = s/delta_dp #ΔSi/ΔDpi\n",
    "delta_S_S_delta_dp = s/(sum(s) * delta_dp) #ΔSi/SΔDpi\n",
    "delta_M_delta_dp = m/delta_dp #ΔMi/ΔDpi\n",
    "delta_M_M_delta_dp = m/(sum(m) * delta_dp) #ΔMi/MΔDpi\n",
    "delta_N_delta_log_dp = number_of_particals/delta_log_dp #ΔNi/Δlog Dpi\n",
    "delta_N_N_delta_log_dp = number_of_particals/(sum(number_of_particals) * delta_log_dp) #ΔNi/NΔlog Dpi\n",
    "delta_S_delta_log_dp = s/delta_log_dp #ΔSi/Δlog Dpi\n",
    "delta_S_S_delta_log_dp = s/(sum(s) * delta_log_dp) #ΔSi/ SΔlog Dpi\n",
    "delta_M_delta_log_dp = m/delta_log_dp #ΔMi/Δlog Dpi\n",
    "delta_M_M_delta_log_dp = m/(sum(m) * delta_log_dp) #ΔMi/M Δlog Dpi"
   ]
  },
  {
   "cell_type": "code",
   "execution_count": 43,
   "metadata": {},
   "outputs": [
    {
     "name": "stdout",
     "output_type": "stream",
     "text": [
      "   size_left  size_right  number_of_particles  geo_mean_of_size_interval  \\\n",
      "0        0.1         0.2                   50                   0.141421   \n",
      "1        0.2         0.4                  460                   0.282843   \n",
      "2        0.4         0.7                 1055                   0.529150   \n",
      "3        0.7         1.0                  980                   0.836660   \n",
      "4        1.0         2.0                 1705                   1.414214   \n",
      "5        2.0         4.0                  680                   2.828427   \n",
      "6        4.0         7.0                  102                   5.291503   \n",
      "7        7.0        10.0                   10                   8.366600   \n",
      "8       10.0        20.0                    2                  14.142136   \n",
      "\n",
      "   delta_N_delta_dp$  delta_N_N_delta_dp  delta_S_delta_dp  \\\n",
      "0         500.000000            0.099128          0.706858   \n",
      "1        2300.000000            0.455987          1.413717   \n",
      "2        3516.666667            0.697198          3.167773   \n",
      "3        3266.666667            0.647634          7.566002   \n",
      "4        1705.000000            0.338025          7.068583   \n",
      "5         340.000000            0.067407         14.137167   \n",
      "6          34.000000            0.006741         31.677726   \n",
      "7           3.333333            0.000661         75.660023   \n",
      "8           0.200000            0.000040         70.685835   \n",
      "\n",
      "   delta_S_S_delta_dp  delta_M_M_delta_dp  delta_N_delta_log_dp  \\\n",
      "0            0.026507            0.000008            166.096405   \n",
      "1            0.106029            0.000032           1528.086924   \n",
      "2            0.435569            0.000132           4340.884095   \n",
      "3            1.607775            0.000489           6326.582311   \n",
      "4            2.650719            0.000806           5663.887402   \n",
      "5           10.602875            0.003225           2258.911105   \n",
      "6           43.556873            0.013246            419.687372   \n",
      "7          160.777549            0.048895             64.556962   \n",
      "8          265.071880            0.080613              6.643856   \n",
      "\n",
      "   delta_N_N_delta_log_dp  delta_S_delta_log_dp  delta_S_S_delta_log_dp  \\\n",
      "0                0.032930              0.234813                0.000220   \n",
      "1                0.302951              0.939253                0.000880   \n",
      "2                0.860604              3.910218                0.003662   \n",
      "3                1.254279             14.653144                0.013723   \n",
      "4                1.122896             23.481326                0.021991   \n",
      "5                0.447841             93.925304                0.087962   \n",
      "6                0.083205            391.021810                0.366198   \n",
      "7                0.012799           1465.314378                1.372290   \n",
      "8                0.001317           2348.132602                2.199062   \n",
      "\n",
      "   delta_M_delta_log_dp  delta_M_M_delta_log_dp  \n",
      "0              0.008805                0.000003  \n",
      "1              0.070444                0.000021  \n",
      "2              0.537655                0.000164  \n",
      "3              3.113793                0.000947  \n",
      "4              8.805497                0.002678  \n",
      "5             70.443978                0.021423  \n",
      "6            537.654989                0.163510  \n",
      "7           3113.793054                0.946955  \n",
      "8           8805.497258                2.677896  \n"
     ]
    }
   ],
   "source": [
    "data1 = {'size_left': size_left,\n",
    "        'size_right': size_right,\n",
    "        'number_of_particles': number_of_particals,\n",
    "        'geo_mean_of_size_interval': geo_mean_of_size_interval,\n",
    "        'delta_N_delta_dp$': delta_N_delta_dp,\n",
    "        'delta_N_N_delta_dp': delta_N_N_delta_dp,\n",
    "        'delta_S_delta_dp': delta_S_delta_dp,\n",
    "        'delta_S_S_delta_dp': delta_S_S_delta_dp,\n",
    "        'delta_S_S_delta_dp': delta_M_delta_dp,\n",
    "        'delta_M_M_delta_dp': delta_M_M_delta_dp,\n",
    "        'delta_N_delta_log_dp': delta_N_delta_log_dp,\n",
    "        'delta_N_N_delta_log_dp': delta_N_N_delta_log_dp,\n",
    "        'delta_S_delta_log_dp': delta_S_delta_log_dp,\n",
    "        'delta_S_S_delta_log_dp': delta_S_S_delta_log_dp,\n",
    "        'delta_M_delta_log_dp': delta_M_delta_log_dp,\n",
    "        'delta_M_M_delta_log_dp': delta_M_M_delta_log_dp\n",
    "}\n",
    "f1= pd.DataFrame(data1)\n",
    "print(f1)"
   ]
  },
  {
   "cell_type": "markdown",
   "metadata": {},
   "source": [
    "## b"
   ]
  },
  {
   "cell_type": "markdown",
   "metadata": {},
   "source": [
    "### $\\Delta N_i / \\Delta logD_{pi}$"
   ]
  },
  {
   "cell_type": "code",
   "execution_count": 44,
   "metadata": {},
   "outputs": [
    {
     "data": {
      "text/plain": [
       "Text(0, 0.5, '$\\\\Delta N_i / \\\\Delta logD_p$')"
      ]
     },
     "execution_count": 44,
     "metadata": {},
     "output_type": "execute_result"
    },
    {
     "data": {
      "image/png": "[encoded data removed]",
      "text/plain": [
       "<Figure size 432x288 with 1 Axes>"
      ]
     },
     "metadata": {
      "needs_background": "light"
     },
     "output_type": "display_data"
    }
   ],
   "source": [
    "plt.step(np.log10(mean_of_interval), delta_N_delta_log_dp, color = \"k\")\n",
    "plt.xlabel('$logD_{pi}$')\n",
    "plt.ylabel('$\\Delta N_i / \\Delta logD_p$')"
   ]
  },
  {
   "cell_type": "markdown",
   "metadata": {},
   "source": [
    "### $\\Delta S_i / \\Delta logD_{pi}$"
   ]
  },
  {
   "cell_type": "code",
   "execution_count": 45,
   "metadata": {},
   "outputs": [
    {
     "data": {
      "text/plain": [
       "Text(0, 0.5, '$\\\\Delta S_i / \\\\Delta logD_{pi}$')"
      ]
     },
     "execution_count": 45,
     "metadata": {},
     "output_type": "execute_result"
    },
    {
     "data": {
      "image/png": "[encoded data removed]",
      "text/plain": [
       "<Figure size 432x288 with 1 Axes>"
      ]
     },
     "metadata": {
      "needs_background": "light"
     },
     "output_type": "display_data"
    }
   ],
   "source": [
    "plt.step(np.log10(mean_of_interval), delta_S_delta_log_dp, color = \"k\")\n",
    "plt.xlabel('$logD_{pi}$')\n",
    "plt.ylabel('$\\Delta S_i / \\Delta logD_{pi}$')"
   ]
  },
  {
   "cell_type": "markdown",
   "metadata": {},
   "source": [
    "### $\\Delta M_i / \\Delta logD_{pi}$"
   ]
  },
  {
   "cell_type": "code",
   "execution_count": 46,
   "metadata": {},
   "outputs": [
    {
     "data": {
      "text/plain": [
       "Text(0, 0.5, '$\\\\Delta S_i / \\\\Delta logD_{pi}$')"
      ]
     },
     "execution_count": 46,
     "metadata": {},
     "output_type": "execute_result"
    },
    {
     "data": {
      "image/png": "[encoded data removed]",
      "text/plain": [
       "<Figure size 432x288 with 1 Axes>"
      ]
     },
     "metadata": {
      "needs_background": "light"
     },
     "output_type": "display_data"
    }
   ],
   "source": [
    "plt.step(np.log10(mean_of_interval), delta_M_delta_log_dp, color = \"k\")\n",
    "plt.xlabel('$logD_{pi}$')\n",
    "plt.ylabel('$\\Delta S_i / \\Delta logD_{pi}$')"
   ]
  },
  {
   "cell_type": "markdown",
   "metadata": {},
   "source": [
    "## c"
   ]
  },
  {
   "cell_type": "markdown",
   "metadata": {},
   "source": [
    "Geometric Mean Diamter: $\\bar{D}_{pg}$"
   ]
  },
  {
   "cell_type": "code",
   "execution_count": 47,
   "metadata": {},
   "outputs": [
    {
     "name": "stdout",
     "output_type": "stream",
     "text": [
      "0.25904676053816056\n"
     ]
    }
   ],
   "source": [
    "geo_mean_dia = sum(number_of_particals*delta_log_dp)/sum(number_of_particals)\n",
    "print(geo_mean_dia)"
   ]
  },
  {
   "cell_type": "code",
   "execution_count": 48,
   "metadata": {},
   "outputs": [
    {
     "name": "stdout",
     "output_type": "stream",
     "text": [
      "0.43811132876569797\n"
     ]
    }
   ],
   "source": [
    "geo_mean_dia_std = np.sqrt(sum(number_of_particals*(delta_log_dp - geo_mean_dia**2))/sum(number_of_particals))\n",
    "print(geo_mean_dia_std)"
   ]
  },
  {
   "cell_type": "code",
   "execution_count": 49,
   "metadata": {},
   "outputs": [
    {
     "data": {
      "text/plain": [
       "Text(0, 0.5, '$\\\\Delta N_i / \\\\Delta logD_p$')"
      ]
     },
     "execution_count": 49,
     "metadata": {},
     "output_type": "execute_result"
    },
    {
     "data": {
      "image/png": "[encoded data removed]",
      "text/plain": [
       "<Figure size 432x288 with 1 Axes>"
      ]
     },
     "metadata": {
      "needs_background": "light"
     },
     "output_type": "display_data"
    }
   ],
   "source": [
    "plt.plot(np.log10(mean_of_interval), delta_N_delta_log_dp, color = \"r\")\n",
    "plt.plot(np.log10(mean_of_interval), delta_S_delta_log_dp, color = \"g\")\n",
    "plt.plot(np.log10(mean_of_interval), delta_M_delta_log_dp, color = \"b\")\n",
    "plt.axvline(x=geo_mean_dia)\n",
    "plt.xlabel('$logD_{pi}$')\n",
    "plt.ylabel('$\\Delta N_i / \\Delta logD_p$')"
   ]
  },
  {
   "cell_type": "markdown",
   "metadata": {},
   "source": [
    "# ATMS 597"
   ]
  },
  {
   "cell_type": "code",
   "execution_count": 50,
   "metadata": {},
   "outputs": [],
   "source": [
    "N_0 = 1e6 \n",
    "V_0 = 7e-14\n",
    "K = 5e-10\n",
    "tau_c = 2/(K*N_0) "
   ]
  },
  {
   "cell_type": "code",
   "execution_count": 51,
   "metadata": {},
   "outputs": [
    {
     "data": {
      "text/plain": [
       "Text(0, 0.5, 'Number Size Distribution')"
      ]
     },
     "execution_count": 51,
     "metadata": {},
     "output_type": "execute_result"
    },
    {
     "data": {
      "image/png": "[encoded data removed]",
      "text/plain": [
       "<Figure size 432x288 with 1 Axes>"
      ]
     },
     "metadata": {
      "needs_background": "light"
     },
     "output_type": "display_data"
    }
   ],
   "source": [
    "v = np.linspace(0,1e-12)\n",
    "def n(v,t):\n",
    "    return (N_0/(V_0*((1+t/tau_c)**2))) * np.exp(-v/(V_0*(1+t/tau_c)))\n",
    "\n",
    "for t in [0, tau_c, 2*tau_c]:\n",
    "    plt.plot(v, n(v,t), label='t = %d s'%t)\n",
    "    plt.legend()\n",
    "\n",
    "plt.xlabel(\"Volume\")\n",
    "plt.ylabel(\"Number Size Distribution\")"
   ]
  },
  {
   "cell_type": "code",
   "execution_count": 52,
   "metadata": {},
   "outputs": [
    {
     "data": {
      "text/plain": [
       "Text(0, 0.5, 'Number Size Distribution')"
      ]
     },
     "execution_count": 52,
     "metadata": {},
     "output_type": "execute_result"
    },
    {
     "data": {
      "image/png": "[encoded data removed]",
      "text/plain": [
       "<Figure size 432x288 with 1 Axes>"
      ]
     },
     "metadata": {
      "needs_background": "light"
     },
     "output_type": "display_data"
    }
   ],
   "source": [
    "time = np.linspace(0,2e4)\n",
    "\n",
    "def n(v,t):\n",
    "    return (N_0/(V_0*((1+time/tau_c)**2))) * np.exp(-v/(V_0*(1+t/tau_c)))\n",
    "\n",
    "for v in [1e-13, 2e-13, 5e-13]:\n",
    "    plt.plot(time, n(v,time), label='V = %s $cm^{-3}$'%v)\n",
    "    plt.legend()\n",
    "\n",
    "plt.xlabel(\"Time\")\n",
    "plt.ylabel(\"Number Size Distribution\")"
   ]
  },
  {
   "cell_type": "markdown",
   "metadata": {},
   "source": [
    "find if n'(v,t) =0 exist"
   ]
  },
  {
   "cell_type": "markdown",
   "metadata": {},
   "source": [
    "# Various $N_0$"
   ]
  },
  {
   "cell_type": "code",
   "execution_count": 53,
   "metadata": {},
   "outputs": [
    {
     "data": {
      "text/plain": [
       "Text(0, 0.5, 'Number Size Distribution')"
      ]
     },
     "execution_count": 53,
     "metadata": {},
     "output_type": "execute_result"
    },
    {
     "data": {
      "image/png": "[encoded data removed]",
      "text/plain": [
       "<Figure size 432x288 with 1 Axes>"
      ]
     },
     "metadata": {
      "needs_background": "light"
     },
     "output_type": "display_data"
    }
   ],
   "source": [
    "time = np.linspace(0,5e3)\n",
    "v = np.linspace(0,1e-12)\n",
    "\n",
    "def n(v,t):\n",
    "    tau_N = 2/(K*N)\n",
    "    return (N/(V_0*((1+time/tau_N)**2))) * np.exp(-v/(V_0*(1+t/tau_N)))\n",
    "\n",
    "for N in [1e5, 1e6, 1e7]:\n",
    "    plt.plot(time, n(v,time), label='N = %.e $cm^{-3}$'%N)\n",
    "    plt.legend()\n",
    "\n",
    "plt.ylim(0,5e19)\n",
    "plt.xlabel(\"Time\")\n",
    "plt.ylabel(\"Number Size Distribution\")"
   ]
  },
  {
   "cell_type": "markdown",
   "metadata": {},
   "source": [
    "# Various $V_0$"
   ]
  },
  {
   "cell_type": "code",
   "execution_count": 54,
   "metadata": {},
   "outputs": [
    {
     "data": {
      "text/plain": [
       "Text(0, 0.5, 'Number Size Distribution')"
      ]
     },
     "execution_count": 54,
     "metadata": {},
     "output_type": "execute_result"
    },
    {
     "data": {
      "image/png": "[encoded data removed]",
      "text/plain": [
       "<Figure size 432x288 with 1 Axes>"
      ]
     },
     "metadata": {
      "needs_background": "light"
     },
     "output_type": "display_data"
    }
   ],
   "source": [
    "time = np.linspace(0,3e4)\n",
    "\n",
    "def n(v,t):\n",
    "    return (N/(V_0*((1+time/tau_c)**2))) * np.exp(-v/(V_0*(1+t/tau_c)))\n",
    "\n",
    "for v in [7e-15, 7e-14, 7e-13]:\n",
    "    plt.plot(time, n(v,time), label='V = %.e $cm^3 $'%v)\n",
    "    plt.legend()\n",
    "\n",
    "plt.xlabel(\"Time\")\n",
    "plt.ylabel(\"Number Size Distribution\")\n"
   ]
  },
  {
   "cell_type": "markdown",
   "metadata": {},
   "source": [
    "# Various K"
   ]
  },
  {
   "cell_type": "code",
   "execution_count": null,
   "metadata": {},
   "outputs": [],
   "source": [
    "time = np.linspace(0,1e5)\n",
    "\n",
    "def n(v,t):\n",
    "    tau_K = 2/(K*N_0)\n",
    "    return (N/(V_0*((1+time/tau_K)**2))) * np.exp(-v/(V_0*(1+t/tau_K)))\n",
    "\n",
    "for K in [5e-11, 5e-10, 5e-9]:\n",
    "    plt.plot(time, n(v,time), label='K'%K)\n",
    "    plt.legend()\n",
    "\n",
    "plt.xlabel(\"Time\")\n",
    "plt.ylabel(\"Number Size Distribution\")\n"
   ]
  },
  {
   "cell_type": "markdown",
   "metadata": {},
   "source": [
    "# Condensational Growth Equation"
   ]
  },
  {
   "cell_type": "code",
   "execution_count": 56,
   "metadata": {},
   "outputs": [],
   "source": [
    "di = 1e-5 # m2 s-1\n",
    "mi = 1e-1 # kg mol-1\n",
    "pi_peqi = 1e-4 # pa\n",
    "T = 298 # k\n",
    "rho_p = 1e3 # kg m-3\n",
    "R = 8.314 # m3 pa K-1 mol-1\n",
    "A = (4 * di * mi * pi_peqi)/(R * T * rho_p) # m2 s-1"
   ]
  },
  {
   "cell_type": "code",
   "execution_count": 57,
   "metadata": {},
   "outputs": [
    {
     "data": {
      "text/plain": [
       "Text(0, 0.5, '$D_p$ ($\\\\mu$m)')"
      ]
     },
     "execution_count": 57,
     "metadata": {},
     "output_type": "execute_result"
    },
    {
     "data": {
      "image/png": "[encoded data removed]",
      "text/plain": [
       "<Figure size 432x288 with 1 Axes>"
      ]
     },
     "metadata": {
      "needs_background": "light"
     },
     "output_type": "display_data"
    }
   ],
   "source": [
    "t = np.linspace(0,30000,30001)\n",
    "def dp(dp_init, t):\n",
    "    return np.sqrt((dp_init ** 2) + 2 * A * t)\n",
    "\n",
    "for dp_init in [2e-7, 5e-7, 2e-6]:\n",
    "    plt.xscale('log')\n",
    "    plt.yscale('log')\n",
    "    plt.plot(t/60,dp(dp_init, t)*1e6, label='$D_{p0} = $ %.e m'%dp_init)\n",
    "    plt.legend(loc=4)\n",
    "plt.xlim(0.1,500)\n",
    "plt.ylim(0.1,10)\n",
    "plt.xlabel(\"Time (min)\")\n",
    "plt.ylabel(\"$D_p$ ($\\mu$m)\")\n"
   ]
  },
  {
   "cell_type": "code",
   "execution_count": 58,
   "metadata": {},
   "outputs": [
    {
     "name": "stdout",
     "output_type": "stream",
     "text": [
      "101\n",
      "100\n",
      "100\n"
     ]
    }
   ],
   "source": [
    "D_edges_0 = np.linspace(0, 1e-6, 101)\n",
    "print(len(D_edges_0))\n",
    "D_centers_0 = (D_edges_0[1:] + D_edges_0[0:-1])/2\n",
    "print(len(D_centers_0))\n",
    "D_widths_0 = D_edges_0[1:] - D_edges_0[0:-1]\n",
    "print(len(D_widths_0))"
   ]
  },
  {
   "cell_type": "code",
   "execution_count": 59,
   "metadata": {},
   "outputs": [],
   "source": [
    "Nt = 1000 #m-3\n",
    "sigma_g = 1.5\n",
    "D_pg = 2e-7 # m"
   ]
  },
  {
   "cell_type": "markdown",
   "metadata": {},
   "source": [
    "$n(D_p) = \\frac{N_0}{\\sqrt{2\\pi}D_p \\mathrm{ln}\\sigma_{g}}\\mathrm{exp}({-\\frac{\\mathrm{ln}^2[(D_p^2-2At)^{1/2}/ \\overline{D}_{pg}]}{2\\mathrm{ln}^2\\sigma_{g}}} )\n",
    "$"
   ]
  },
  {
   "cell_type": "code",
   "execution_count": 60,
   "metadata": {},
   "outputs": [],
   "source": [
    "def n_N_0(dp):\n",
    "    return (Nt/(np.sqrt(2*np.pi)*dp*np.log(sigma_g)))*np.exp(-(np.log(dp)-np.log(D_pg))**2/(2*np.log(sigma_g)**2))"
   ]
  },
  {
   "cell_type": "code",
   "execution_count": 61,
   "metadata": {},
   "outputs": [
    {
     "data": {
      "text/plain": [
       "Text(0, 0.5, '$n(D_p,t)$')"
      ]
     },
     "execution_count": 61,
     "metadata": {},
     "output_type": "execute_result"
    },
    {
     "data": {
      "image/png": "[encoded data removed]",
      "text/plain": [
       "<Figure size 432x288 with 1 Axes>"
      ]
     },
     "metadata": {
      "needs_background": "light"
     },
     "output_type": "display_data"
    }
   ],
   "source": [
    "plt.plot(D_centers_0 * 1e6, n_N_0(D_centers_0))\n",
    "plt.xlim(0,1)\n",
    "plt.xlabel(\"Diameter ($\\mu$m)\")\n",
    "plt.ylabel(\"$n(D_p,t)$\")"
   ]
  },
  {
   "cell_type": "code",
   "execution_count": 62,
   "metadata": {},
   "outputs": [
    {
     "data": {
      "text/plain": [
       "Text(0, 0.5, '$n(D_p,t)$')"
      ]
     },
     "execution_count": 62,
     "metadata": {},
     "output_type": "execute_result"
    },
    {
     "data": {
      "image/png": "[encoded data removed]",
      "text/plain": [
       "<Figure size 432x288 with 1 Axes>"
      ]
     },
     "metadata": {
      "needs_background": "light"
     },
     "output_type": "display_data"
    }
   ],
   "source": [
    "time = [60, 600, 1200]\n",
    "D_edges_t = np.zeros((3,101))\n",
    "D_centers_t = np.zeros((3,100))\n",
    "D_widths_t =np.zeros((3,100))\n",
    "n_N_t = np.zeros((3,100))\n",
    "n_N = n_N_0(D_centers_0) * D_widths_0\n",
    "\n",
    "plt.plot(D_centers_0*1e6, n_N_0(D_centers_0), label = 'Time = 0 min') \n",
    "\n",
    "for i in [0,1,2]:\n",
    "    D_edges_t[i,:] = np.sqrt(D_edges_0**2+2*A*time[i])\n",
    "    D_centers_t[i,:] = (D_edges_t[i,1:] + D_edges_t[i, 0:-1])/2\n",
    "    D_widths_t[i,:] = D_edges_t[i,1:] - D_edges_t[i,0:-1]\n",
    "    n_N_t[i,:] = n_N / D_widths_t[i,:]\n",
    "    plt.plot(D_centers_t[i,:]*1e6, n_N_t[i,:],label = 'Time = %d min'%(time[i]/60))\n",
    "plt.legend(loc=1)\n",
    "plt.xlim(0,1.2)\n",
    "plt.xlabel(\"Diameter ($\\mu$m)\")\n",
    "plt.ylabel(\"$n(D_p,t)$\")\n"
   ]
  },
  {
   "cell_type": "markdown",
   "metadata": {},
   "source": [
    "## Formation of Ammonium Nitrate"
   ]
  },
  {
   "cell_type": "code",
   "execution_count": 44,
   "metadata": {},
   "outputs": [],
   "source": [
    "NH3 = 17  #ugm−3\n",
    "HNO3 = 63  #ug m−3\n",
    "temp = 308 #K\n",
    "rh = 30   \n",
    "# pres = 101325 # pa\n",
    "pres = 1e5 # pa"
   ]
  },
  {
   "cell_type": "markdown",
   "metadata": {},
   "source": [
    "$\\mu_{NH_3} +\\mu_{HNO_3}$ = $\\mu_{NH_4 NO_3}$"
   ]
  },
  {
   "cell_type": "markdown",
   "metadata": {},
   "source": [
    "$exp(\\frac{\\mu^*_{NH_4NO3}-\\mu^\\circ_{NH_3}-\\mu^\\circ_{HNO3}}{RT})=K_p(T)=p_{NH_3}p_{HNO_3}$"
   ]
  },
  {
   "cell_type": "markdown",
   "metadata": {},
   "source": [
    "$\\mathrm{ln}K_p(T)=84.6-\\frac{24220}{T}-6.1\\mathrm{ln}(\\frac{T}{298} )  $"
   ]
  },
  {
   "cell_type": "code",
   "execution_count": 45,
   "metadata": {},
   "outputs": [
    {
     "data": {
      "text/plain": [
       "Text(0, 0.5, '$\\\\xi_{NH_3} \\\\xi_{HNO_3}$, $ppb^2$')"
      ]
     },
     "execution_count": 45,
     "metadata": {},
     "output_type": "execute_result"
    },
    {
     "data": {
      "image/png": "[encoded data removed]",
      "text/plain": [
       "<Figure size 432x288 with 1 Axes>"
      ]
     },
     "metadata": {
      "needs_background": "light"
     },
     "output_type": "display_data"
    }
   ],
   "source": [
    "def K_p_t(t):\n",
    "    return np.exp(84.6 - (24220/t) - (6.1*np.log(t/298)))\n",
    "\n",
    "t = np.arange(283,313)\n",
    "plt.plot(t-273,K_p_t(t))\n",
    "plt.yscale('log')\n",
    "plt.xlabel('T, $^{\\circ}C$')\n",
    "plt.ylabel(r'$\\xi_{NH_3} \\xi_{HNO_3}$, $ppb^2$')"
   ]
  },
  {
   "cell_type": "markdown",
   "metadata": {},
   "source": [
    "$\\rho_x = \\frac{p}{R^*T}M_x C_x$"
   ]
  },
  {
   "cell_type": "code",
   "execution_count": 46,
   "metadata": {},
   "outputs": [
    {
     "name": "stdout",
     "output_type": "stream",
     "text": [
      "25.60712000000001 25.607120000000002\n"
     ]
    }
   ],
   "source": [
    "conc_nh3 = (NH3*1e-9*8.314*temp)/(pres*17*1e-3) * 1e9\n",
    "conc_hno3 = (HNO3*1e-9*8.314*temp)/(pres*63*1e-3) * 1e9 # in ppb\n",
    "print(conc_hno3, conc_nh3)"
   ]
  },
  {
   "cell_type": "code",
   "execution_count": 47,
   "metadata": {},
   "outputs": [
    {
     "data": {
      "text/plain": [
       "655.7245946944003"
      ]
     },
     "execution_count": 47,
     "metadata": {},
     "output_type": "execute_result"
    }
   ],
   "source": [
    "xi = conc_nh3 * conc_hno3\n",
    "xi"
   ]
  },
  {
   "cell_type": "code",
   "execution_count": 48,
   "metadata": {},
   "outputs": [
    {
     "data": {
      "text/plain": [
       "318.0784196909763"
      ]
     },
     "execution_count": 48,
     "metadata": {},
     "output_type": "execute_result"
    }
   ],
   "source": [
    "K_p_t(temp)"
   ]
  },
  {
   "cell_type": "code",
   "execution_count": 49,
   "metadata": {},
   "outputs": [
    {
     "data": {
      "text/plain": [
       "7.765246856460944"
      ]
     },
     "execution_count": 49,
     "metadata": {},
     "output_type": "execute_result"
    }
   ],
   "source": [
    "solid = 25.6 - np.sqrt(K_p_t(temp))\n",
    "solid "
   ]
  },
  {
   "cell_type": "markdown",
   "metadata": {},
   "source": [
    "## Ammonium Nitrate Solutions"
   ]
  },
  {
   "cell_type": "markdown",
   "metadata": {},
   "source": [
    "Y = 1， pure $NH_4NO_3$"
   ]
  },
  {
   "cell_type": "markdown",
   "metadata": {},
   "source": [
    "5 ppb $NH_3$ and 6 ppb $HNO_3$"
   ]
  },
  {
   "cell_type": "code",
   "execution_count": 4,
   "metadata": {},
   "outputs": [
    {
     "data": {
      "text/plain": [
       "61.725781353762464"
      ]
     },
     "execution_count": 4,
     "metadata": {},
     "output_type": "execute_result"
    }
   ],
   "source": [
    "temp =  25 + 273.15\n",
    "drh = np.exp(723.7/temp + 1.6954)\n",
    "drh"
   ]
  },
  {
   "cell_type": "code",
   "execution_count": 5,
   "metadata": {},
   "outputs": [],
   "source": [
    "kan = 4*1e7*np.exp(64.7*(298/temp -1)+11.51*(1+np.log(298/temp)-298/temp)) # mol^2 Kg^-2 atm-2  "
   ]
  },
  {
   "cell_type": "code",
   "execution_count": 6,
   "metadata": {},
   "outputs": [],
   "source": [
    "def quadratic(a,b,c):\n",
    "    key=b**2-4*a*c\n",
    "    if key>0:\n",
    "        x1=(-b+math.sqrt(key))/2*a\n",
    "        x2=(-b-math.sqrt(key))/2*a\n",
    "    if key==0:\n",
    "        x1=-b/2*a\n",
    "        x2=x1\n",
    "    if key<0:\n",
    "        print('方程无解')\n",
    "        return(None,None)\n",
    "    return (x2)"
   ]
  },
  {
   "cell_type": "code",
   "execution_count": 28,
   "metadata": {},
   "outputs": [
    {
     "name": "stdout",
     "output_type": "stream",
     "text": [
      "[6.82109165 7.18492709 7.37652462 8.11251781 8.46887113 9.29843788\n",
      " 9.66274781]\n"
     ]
    },
    {
     "data": {
      "text/plain": [
       "array([21.31591142, 22.45289717, 23.05163943, 25.35161814, 26.46522227,\n",
       "       29.05761838, 30.1960869 ])"
      ]
     },
     "execution_count": 28,
     "metadata": {},
     "output_type": "execute_result"
    }
   ],
   "source": [
    "conc = np.zeros(7)\n",
    "kp = [26,22,20,13,10,4,1.8]\n",
    "for i in range(7):\n",
    "    root = quadratic(1,-25,150-kp[i])\n",
    "    conc[i] = root \n",
    "print(conc)\n",
    "conc = conc*80/25.6\n",
    "conc"
   ]
  },
  {
   "cell_type": "code",
   "execution_count": 53,
   "metadata": {},
   "outputs": [
    {
     "data": {
      "text/plain": [
       "Text(0, 0.5, '$NH_4NO_3$')"
      ]
     },
     "execution_count": 53,
     "metadata": {},
     "output_type": "execute_result"
    },
    {
     "data": {
      "image/png": "[encoded data removed]",
      "text/plain": [
       "<Figure size 432x288 with 1 Axes>"
      ]
     },
     "metadata": {
      "needs_background": "light"
     },
     "output_type": "display_data"
    }
   ],
   "source": [
    "rh = [65, 70, 75, 80, 85, 90, 95]\n",
    "rh2 = [30,35,40,45,50,55,60, 65]\n",
    "solid2 = [conc[0],conc[0],conc[0],conc[0],conc[0],conc[0],conc[0],conc[0]] \n",
    "# equi = (10-conc)*(15-conc)\n",
    "plt.plot(rh2,solid2,c='k')\n",
    "plt.plot(rh,conc,c='k')\n",
    "# plt.ylim(1,1e3)\n",
    "# plt.yscale('log')\n",
    "plt.xlabel(\"relative humidity\")\n",
    "plt.ylabel('$NH_4NO_3$')"
   ]
  },
  {
   "cell_type": "code",
   "execution_count": 62,
   "metadata": {},
   "outputs": [
    {
     "name": "stdout",
     "output_type": "stream",
     "text": [
      "[7.         7.37652462 7.5755711  8.34668807 8.85994506 9.45861873\n",
      " 9.69821485]\n"
     ]
    },
    {
     "data": {
      "text/plain": [
       "array([21.875     , 23.05163943, 23.67365968, 26.08340021, 27.6873283 ,\n",
       "       29.55818355, 30.30692142])"
      ]
     },
     "execution_count": 62,
     "metadata": {},
     "output_type": "execute_result"
    }
   ],
   "source": [
    "kp = [24,20,18,11,7,3,1.6]\n",
    "conc1 = np.zeros(7)\n",
    "for i in range(7):\n",
    "    root = quadratic(1,-25,150-kp[i])\n",
    "    conc1[i] = root \n",
    "print(conc1)\n",
    "conc1 = conc1*80/25.6\n",
    "conc1"
   ]
  },
  {
   "cell_type": "code",
   "execution_count": 63,
   "metadata": {},
   "outputs": [
    {
     "data": {
      "text/plain": [
       "Text(0, 0.5, '$NH_4NO_3$')"
      ]
     },
     "execution_count": 63,
     "metadata": {},
     "output_type": "execute_result"
    },
    {
     "data": {
      "image/png": "[encoded data removed]",
      "text/plain": [
       "<Figure size 432x288 with 1 Axes>"
      ]
     },
     "metadata": {
      "needs_background": "light"
     },
     "output_type": "display_data"
    }
   ],
   "source": [
    "rh = [65, 70, 75, 80, 85, 90, 95]\n",
    "rh2 = [30,35,40,45,50,55,60, 65]\n",
    "solid3 = [conc[0],conc[0],conc[0],conc[0],conc[0],conc[0],conc[0],conc[0]] \n",
    "plt.plot(rh2,solid3,c='k')\n",
    "plt.plot(rh,conc1,c='k')\n",
    "plt.xlabel(\"relative humidity\")\n",
    "plt.ylabel('$NH_4NO_3$')"
   ]
  },
  {
   "cell_type": "code",
   "execution_count": 33,
   "metadata": {},
   "outputs": [],
   "source": [
    "M_w = 18 * 1e-3 #kg mol-1\n",
    "sigma_w = 0.072 # J m-2\n",
    "rho_w = 1000 # kg/m3\n",
    "M_o = 14.2 * 1e-3 #kg mol-1\n",
    "sigma_o = 0.031 # J m-2\n",
    "rho_o = 906 # kg/m3\n",
    "R = 8.314\n",
    "temp = 300 "
   ]
  },
  {
   "cell_type": "code",
   "execution_count": 39,
   "metadata": {},
   "outputs": [],
   "source": [
    "r = np.arange(1e-2,10,1e-5)*1e-6"
   ]
  },
  {
   "cell_type": "code",
   "execution_count": 60,
   "metadata": {},
   "outputs": [
    {
     "data": {
      "text/plain": [
       "Text(0, 0.5, 'saturation ratio, %')"
      ]
     },
     "execution_count": 60,
     "metadata": {},
     "output_type": "execute_result"
    },
    {
     "data": {
      "image/png": "[encoded data removed]",
      "text/plain": [
       "<Figure size 432x288 with 1 Axes>"
      ]
     },
     "metadata": {
      "needs_background": "light"
     },
     "output_type": "display_data"
    }
   ],
   "source": [
    "plt.plot(r*1e6, np.exp(2*sigma_w*M_w/(R*temp*rho_w*r)), label=\"water\")\n",
    "plt.plot(r*1e6, np.exp(2*sigma_o*M_o/(R*temp*rho_o*r)), label=\"organic\")\n",
    "plt.legend()\n",
    "plt.xscale('log')\n",
    "plt.xlabel('radius, $\\mu m$')\n",
    "plt.ylabel('saturation ratio, %')"
   ]
  },
  {
   "cell_type": "code",
   "execution_count": null,
   "metadata": {},
   "outputs": [],
   "source": []
  }
 ],
 "metadata": {
  "interpreter": {
   "hash": "016567e00e1917e3311eb648fa0f4418732f68f0653f269a203fb620fea407f6"
  },
  "kernelspec": {
   "display_name": "Python 3 (ipykernel)",
   "language": "python",
   "name": "python3"
  },
  "language_info": {
   "codemirror_mode": {
    "name": "ipython",
    "version": 3
   },
   "file_extension": ".py",
   "mimetype": "text/x-python",
   "name": "python",
   "nbconvert_exporter": "python",
   "pygments_lexer": "ipython3",
   "version": "3.9.7"
  }
 },
 "nbformat": 4,
 "nbformat_minor": 4
}
