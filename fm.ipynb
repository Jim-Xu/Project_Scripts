{
 "cells": [
  {
   "cell_type": "code",
   "execution_count": 9,
   "metadata": {},
   "outputs": [],
   "source": [
    "import pandas as pd"
   ]
  },
  {
   "cell_type": "code",
   "execution_count": 10,
   "metadata": {},
   "outputs": [],
   "source": [
    "a=pd.read_csv(\"gas_emit.dat\",skiprows=3,sep=\"\\s+\",header=None)\n",
    "a=a.set_index(0)\n",
    "a=a.T\n",
    "f=pd.DataFrame(a)\n",
    "# f['time']=f['time'].astype(int)"
   ]
  },
  {
   "cell_type": "code",
   "execution_count": 11,
   "metadata": {},
   "outputs": [],
   "source": [
    "no2 = f['NO2']\n",
    "f['#NO2']=no2\n",
    "f['NO2']=2*no2"
   ]
  },
  {
   "cell_type": "code",
   "execution_count": 12,
   "metadata": {},
   "outputs": [],
   "source": [
    "f=f.T\n",
    "f_out = f.to_csv('gas_emit.dat',sep='\\t',index=True, header=False)"
   ]
  }
 ],
 "metadata": {
  "interpreter": {
   "hash": "016567e00e1917e3311eb648fa0f4418732f68f0653f269a203fb620fea407f6"
  },
  "kernelspec": {
   "display_name": "Python 3 (ipykernel)",
   "language": "python",
   "name": "python3"
  },
  "language_info": {
   "codemirror_mode": {
    "name": "ipython",
    "version": 3
   },
   "file_extension": ".py",
   "mimetype": "text/x-python",
   "name": "python",
   "nbconvert_exporter": "python",
   "pygments_lexer": "ipython3",
   "version": "3.9.7"
  }
 },
 "nbformat": 4,
 "nbformat_minor": 2
}
