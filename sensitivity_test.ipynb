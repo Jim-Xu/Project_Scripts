{
 "cells": [
  {
   "cell_type": "code",
   "execution_count": 1,
   "metadata": {},
   "outputs": [],
   "source": [
    "import matplotlib.pyplot as plt\n",
    "import numpy as np\n",
    "import pandas as pd\n",
    "import ipywidgets as widgets"
   ]
  },
  {
   "cell_type": "code",
   "execution_count": 2,
   "metadata": {},
   "outputs": [],
   "source": [
    "R = 8.314 #J⋅K−1⋅mol−1\n",
    "sigma_water = 72* 1e-3 # N m-1\n",
    "mv = 18 * 1e-3 # Kg mol-1\n",
    "rho_w = 1000 # Kg m-3"
   ]
  },
  {
   "cell_type": "code",
   "execution_count": 3,
   "metadata": {},
   "outputs": [],
   "source": [
    "T = widgets.FloatSlider(min=250, max=300, step=0.01, value=288.15, description = 'Temperature') # K\n",
    "D= widgets.IntRangeSlider(min=1, max = 100, value = [5, 65], description = 'Wet Diameter') # need time 1e-8\n",
    "d_0 = widgets.FloatSlider(min=40, max=200, step=1, value=41,description='dry diameter') # nm\n",
    "frac_org = widgets.FloatSlider(min=0, max=1, step=0.01, value=0.5, description='organic fraction') \n",
    "delta_min = widgets.FloatSlider(min=0.1, max=0.3, step=0.01, value=0.16, description='delta_min') # nm\n",
    "'''Inorganics'''\n",
    "sigma_inorganic = widgets.Dropdown(options=[('AS', 50), ('H2SO4', 49)], description='$\\sigma_{inorganic}$') # mN/m\n",
    "kappa_inorganic = widgets.Dropdown(options= [('AS', 0.58), ('H2SO4', 0.7)], description='$\\kappa_{inorganic}$')\n",
    "rho_inorganic = widgets.Dropdown(options = [('SO4', 1800), ('NO3', 1800), ('Cl',  2200), ('NH4', 1800), ('Na',  2200), ('Ca', 2600), ('OIN', 2600), ('CO3', 2600)], description='$\\\\rho_{inorganics}$')\n",
    "'''Organics'''\n",
    "sigma_organic = widgets.Dropdown(options= [('system2', 30)], description='$\\sigma_{organics}$') # mN/m\n",
    "kappa_organic = widgets.Dropdown(options = [('MSA', 0.53), ('ARO1', 0.1), ('ARO2', 0.1), ('ALK1', 0.1), ('OLE1', 0.1), ('API1', 0.1 ), ('API2', 0.1), ('LIM1', 0.1), ('LIM2', 0.1), ('OC', 0.001)], value = 0.1, description='$\\kappa_{organics}$')\n",
    "rho_organic = widgets.Dropdown(options = [('MSA', 1800), ('ARO1', 1400), ('ARO2', 1400), ('ALK1', 1400), ('OLE1', 1400),('API1', 1400), ('API2', 1400), ('LIM1', 1400), ('LIM2', 1400), ('OC', 1000)], description='$\\\\rho_{organics}$')"
   ]
  },
  {
   "cell_type": "code",
   "execution_count": 12,
   "metadata": {},
   "outputs": [],
   "source": [
    "Dw = np.linspace(D.value[0]*1e-8, D.value[1]*1e-8,100)\n",
    "def S_const_sigma(Dw):\n",
    "    A_cs = (4 * sigma_water * mv)/(R * T.value * rho_w)\n",
    "    kappa_cs = (1 - frac_org.value) * kappa_inorganic.value + frac_org.value * kappa_organic.value\n",
    "    ss_cs = (Dw**3 - ((d_0.value)*1e-9)**3)/(Dw**3 - (1-kappa_cs)*((d_0.value)*1e-9)**3)*np.exp(A_cs/Dw)  \n",
    "    return ss_cs \n",
    "\n",
    "def S_varying_sigma(Dw):\n",
    "    v_wet = (np.pi * Dw **3)/6\n",
    "    v_dry = (np.pi * ((d_0.value)*1e-9)**3)/6\n",
    "    # calculate the minimum shell volume, v_delta\n",
    "    v_delta = v_wet - (((4 * np.pi) / 3) * (Dw /2 - delta_min.value * 1e-9) ** 3)\n",
    "    # calculate the total volume of organic, v_beta\n",
    "    v_beta = frac_org.value * v_dry                                                               \n",
    "    # calculate the coverage parameter\n",
    "    c_beta = np.minimum(v_beta / v_delta, 1)                                                   \n",
    "    f_core_water = ((Dw - 2 * delta_min.value * 1e-9) ** 3 - ((d_0.value) * 1e-9) ** 3)/(Dw - 2 * delta_min.value * 1e-9) ** 3\n",
    "    f_core_inorganic = 1 - f_core_water\n",
    "    sigma_core = f_core_water * sigma_water + f_core_inorganic * sigma_inorganic.value * 1e-3\n",
    "    sigma_shell = sigma_organic.value * 1e-3\n",
    "    # calculate overall sigma\n",
    "    sigma = (1 - c_beta) * sigma_core + c_beta * sigma_shell                                    \n",
    "    A_vs = (4* sigma * mv)/(R * T.value * rho_w)\n",
    "    kappa_vs = (1 - frac_org.value) * kappa_inorganic.value + frac_org.value * kappa_organic.value\n",
    "    ss_vs = ((Dw ** 3 - ((d_0.value) * 1e-9) ** 3)/(Dw ** 3 - (1-kappa_vs) * ((d_0.value) * 1e-9) ** 3)) * np.exp(A_vs/Dw)\n",
    "    om_in = (rho_organic.value * frac_org.value)/(rho_inorganic.value * (1 - frac_org.value))\n",
    "    return c_beta, sigma, ss_vs, om_in\n",
    "\n",
    "def plot(T, D, d_0, frac_org, delta_min, sigma_inorganic, kappa_inorganic, sigma_organic, kappa_organic, rho_inorganic, rho_organic):\n",
    "    # Dw = np.linspace(int(D.value[0])*1e-8, int(D.value[1])*1e-8,100)\n",
    "    ss_cs = S_const_sigma(Dw)\n",
    "    c_beta, sigma, ss_vs, om_in = S_varying_sigma(Dw)\n",
    "    crit_ss = np.max((ss_vs-1)*100)\n",
    "    max_cs_index = np.argmax(ss_cs)\n",
    "    max_vs_index = np.argmax(ss_vs)\n",
    "    high = [Dw[max_cs_index], (ss_cs[max_cs_index]-1)*100]\n",
    "    low = [Dw[max_vs_index], (ss_vs[max_vs_index]-1)*100]\n",
    "    delta_D = ((Dw[max_vs_index] - Dw[max_cs_index])/Dw[max_vs_index])*100\n",
    "    delta_SS = ((ss_vs[max_vs_index] - ss_cs[max_cs_index])/(ss_vs[max_vs_index]-1))*100\n",
    "    ratio = om_in\n",
    "\n",
    "    fig, (ax1, ax2) = plt.subplots(2, 1, figsize=(6, 12))\n",
    "\n",
    "    ax1.plot(Dw, (ss_cs-1)*100, 'g--', label = 'constant $\\sigma$')\n",
    "    ax1.scatter(Dw[max_cs_index], (ss_cs[max_cs_index]-1)*100, c = 'green', marker='o')\n",
    "    ax1.plot(Dw, (ss_vs-1)*100, 'b-', label = 'varying $\\sigma$')\n",
    "    ax1.scatter(Dw[max_vs_index], (ss_vs[max_vs_index]-1)*100, c = 'blue', marker='o')\n",
    "    ax1.text(5e-7, 0, '$\\Delta D = %.2f \\%%$'%delta_D)\n",
    "    ax1.text(5e-7, -0.1, '$\\Delta SS = %.2f \\%%$'%delta_SS)\n",
    "    ax1.set_ylim(-0.2, 1)\n",
    "    ax1.set_ylabel(\"Supersaturation $(\\%)$\")\n",
    "    ax1.legend()\n",
    "\n",
    "    ax2.plot(Dw, sigma*1000, 'b-')\n",
    "    ax2.axhline(y=72, color= 'green', linestyle='--')\n",
    "    ax2.set_xlabel('particle diameter')\n",
    "    ax2.set_ylabel('$\\sigma\\ (mN\\ m^{-1})$')\n",
    "    ax2.set_xlim(0, 6e-7)\n",
    "    ax2.set_ylim(20,80)\n",
    "\n",
    "    ax3 = ax2.twinx()\n",
    "    ax3.plot(Dw, c_beta)\n",
    "    ax3.set_ylim(0, 1.1)\n",
    "    ax3.set_ylabel('surface coverage')\n",
    "    \n",
    "    print(\"Organic/Inorganic mass ratio is \"+str(round(ratio,3))+\", and critical supersaturation is \"+str(round(crit_ss,3))+\"%.\" )\n"
   ]
  },
  {
   "cell_type": "code",
   "execution_count": 13,
   "metadata": {},
   "outputs": [
    {
     "data": {
      "application/vnd.jupyter.widget-view+json": {
       "model_id": "7b0d9af33b544a578a7bcb72b1d3becb",
       "version_major": 2,
       "version_minor": 0
      },
      "text/plain": [
       "interactive(children=(FloatSlider(value=288.15, description='Temperature', max=300.0, min=250.0, step=0.01), I…"
      ]
     },
     "metadata": {},
     "output_type": "display_data"
    },
    {
     "data": {
      "text/plain": [
       "<function __main__.plot(T, D, d_0, frac_org, delta_min, sigma_inorganic, kappa_inorganic, sigma_organic, kappa_organic, rho_inorganic, rho_organic)>"
      ]
     },
     "execution_count": 13,
     "metadata": {},
     "output_type": "execute_result"
    }
   ],
   "source": [
    "widgets.interact(plot, T=T, D=D, d_0=d_0, frac_org=frac_org, delta_min=delta_min, \n",
    "                       sigma_inorganic=sigma_inorganic, kappa_inorganic=kappa_inorganic, rho_inorganic=rho_inorganic, \n",
    "                       sigma_organic=sigma_organic, kappa_organic=kappa_organic, rho_organic=rho_organic)"
   ]
  },
  {
   "cell_type": "code",
   "execution_count": null,
   "metadata": {},
   "outputs": [],
   "source": []
  }
 ],
 "metadata": {
  "kernelspec": {
   "display_name": "Python 3 (ipykernel)",
   "language": "python",
   "name": "python3"
  },
  "language_info": {
   "codemirror_mode": {
    "name": "ipython",
    "version": 3
   },
   "file_extension": ".py",
   "mimetype": "text/x-python",
   "name": "python",
   "nbconvert_exporter": "python",
   "pygments_lexer": "ipython3",
   "version": "3.9.7"
  },
  "vscode": {
   "interpreter": {
    "hash": "016567e00e1917e3311eb648fa0f4418732f68f0653f269a203fb620fea407f6"
   }
  }
 },
 "nbformat": 4,
 "nbformat_minor": 2
}
