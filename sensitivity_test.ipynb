{
 "cells": [
  {
   "cell_type": "code",
   "execution_count": 1,
   "metadata": {},
   "outputs": [],
   "source": [
    "import matplotlib.pyplot as plt\n",
    "import numpy as np\n",
    "import pandas as pd\n",
    "import ipywidgets as widgets\n",
    "from ipywidgets import interact, FloatSlider\n",
    "from IPython.display import display"
   ]
  },
  {
   "cell_type": "code",
   "execution_count": 9,
   "metadata": {},
   "outputs": [],
   "source": [
    "T = 288.15 # K\n",
    "R = 8.314 #J⋅K−1⋅mol−1\n",
    "sigma_water = 72* 1e-3 # N m-1\n",
    "mv = 18 * 1e-3 # Kg mol-1\n",
    "rho_w = 1000 # Kg m-3\n",
    "D = np.linspace(0.05*1e-6, 0.65 * 1e-6, 100 ) # m, wet diameter"
   ]
  },
  {
   "cell_type": "code",
   "execution_count": 3,
   "metadata": {},
   "outputs": [
    {
     "data": {
      "application/vnd.jupyter.widget-view+json": {
       "model_id": "1b8588ff5a2343699ecdd714b1ee6fa1",
       "version_major": 2,
       "version_minor": 0
      },
      "text/plain": [
       "FloatSlider(value=40.0, description='dry diameter', max=200.0, min=40.0, step=1.0)"
      ]
     },
     "metadata": {},
     "output_type": "display_data"
    },
    {
     "data": {
      "application/vnd.jupyter.widget-view+json": {
       "model_id": "3773452149ee401cb44cfa8fd63cca80",
       "version_major": 2,
       "version_minor": 0
      },
      "text/plain": [
       "FloatSlider(value=0.0, description='organic fraction', max=1.0, step=0.01)"
      ]
     },
     "metadata": {},
     "output_type": "display_data"
    },
    {
     "data": {
      "application/vnd.jupyter.widget-view+json": {
       "model_id": "d1e46dbac06542798a05c65eab329971",
       "version_major": 2,
       "version_minor": 0
      },
      "text/plain": [
       "FloatSlider(value=0.1, description='delta_min', max=0.3, min=0.1, step=0.01)"
      ]
     },
     "metadata": {},
     "output_type": "display_data"
    },
    {
     "data": {
      "application/vnd.jupyter.widget-view+json": {
       "model_id": "c8aad11c132640f8a535bb721f471bef",
       "version_major": 2,
       "version_minor": 0
      },
      "text/plain": [
       "Dropdown(description='sigma_inorganic:', options=(('AS', 228), ('H2SO4', 49)), value=228)"
      ]
     },
     "metadata": {},
     "output_type": "display_data"
    },
    {
     "data": {
      "application/vnd.jupyter.widget-view+json": {
       "model_id": "729ef8294a6e4e508f03d8f85a3caba4",
       "version_major": 2,
       "version_minor": 0
      },
      "text/plain": [
       "Dropdown(description='kappa_inorganic', options=(('AS', 0.58), ('H2SO4', 0.7)), value=0.58)"
      ]
     },
     "metadata": {},
     "output_type": "display_data"
    },
    {
     "data": {
      "application/vnd.jupyter.widget-view+json": {
       "model_id": "28133954fb954f569dc293a8811e8859",
       "version_major": 2,
       "version_minor": 0
      },
      "text/plain": [
       "Dropdown(description='sigma_organic', options=(('system2', 30),), value=30)"
      ]
     },
     "metadata": {},
     "output_type": "display_data"
    },
    {
     "data": {
      "application/vnd.jupyter.widget-view+json": {
       "model_id": "ab6337463fb34e3e9625bb4ae2f4a2e1",
       "version_major": 2,
       "version_minor": 0
      },
      "text/plain": [
       "Dropdown(description='kappa_organic', options=(('system2', 0.01),), value=0.01)"
      ]
     },
     "metadata": {},
     "output_type": "display_data"
    }
   ],
   "source": [
    "d_0 = widgets.FloatSlider(min=40, max=200, step=1, description='dry diameter') # nm\n",
    "frac_org = widgets.FloatSlider(min=0, max=1, step = 0.01, description='organic fraction') \n",
    "delta_min = widgets.FloatSlider(min=0.1, max=0.3, step = 0.01, description='delta_min') # nm\n",
    "sigma_inorganic = widgets.Dropdown(options=[('AS', 228), ('H2SO4', 49)], description='sigma_inorganic:') # mN/m\n",
    "kappa_inorganic = widgets.Dropdown(options= [('AS', 0.58), ('H2SO4', 0.7)], description='kappa_inorganic')\n",
    "sigma_organic= widgets.Dropdown(options= [('system2', 30)], description='sigma_organic') # mN/m\n",
    "kappa_organic= widgets.Dropdown(options= [('system2', 0.01)], description='kappa_organic')\n",
    "\n",
    "display(d_0,frac_org, delta_min, sigma_inorganic, kappa_inorganic, sigma_organic, kappa_organic)"
   ]
  },
  {
   "cell_type": "markdown",
   "metadata": {},
   "source": [
    "# consant $\\sigma$ value"
   ]
  },
  {
   "cell_type": "code",
   "execution_count": 24,
   "metadata": {},
   "outputs": [
    {
     "data": {
      "text/plain": [
       "Text(0, 0.5, 'supersaturation ($\\\\%$)')"
      ]
     },
     "execution_count": 24,
     "metadata": {},
     "output_type": "execute_result"
    },
    {
     "data": {
      "image/png": "[encoded data removed]",
      "text/plain": [
       "<Figure size 432x288 with 1 Axes>"
      ]
     },
     "metadata": {
      "needs_background": "light"
     },
     "output_type": "display_data"
    }
   ],
   "source": [
    "def S(D, kappa):\n",
    "    A = (4*sigma_water*mv)/(R*T*rho_w)\n",
    "    return ((D**3 - ((d_0.value)*1e-9)**3)/(D**3 - (1-kappa)*((d_0.value)*1e-9)**3))*np.exp(A/D)\n",
    "\n",
    "kappa = 0.3\n",
    "plt.plot(D, (S(D, kappa)-1)*100, 'g--')\n",
    "plt.xlim(0, 6e-7)\n",
    "plt.ylim(-0.2, 1)\n",
    "plt.xlabel(\"particle diameter ($ m$)\")\n",
    "plt.ylabel(\"supersaturation ($\\%$)\")"
   ]
  },
  {
   "cell_type": "code",
   "execution_count": 31,
   "metadata": {},
   "outputs": [],
   "source": [
    "def S_varying_sigma(D):\n",
    "    v_wet = (np.pi * D**3)/6\n",
    "    v_dry = (np.pi * ((d_0.value)*1e-9)**3)/6\n",
    "    # calculate the minimum shell volume, v_delta\n",
    "    v_delta = v_wet - (((4 * np.pi) / 3) * (D/2 - delta_min.value * 1e-9) ** 3)\n",
    "    # calculate the total volume of organic, v_beta\n",
    "    v_beta = frac_org.value * v_dry                                                               \n",
    "    # calculate the coverage parameter\n",
    "    c_beta = np.minimum(v_beta / v_delta, 1)                                                   \n",
    "    f_core_water = ((D - 2 * delta_min.value * 1e-9) ** 3 - ((d_0.value) * 1e-9) ** 3)/(D - 2 * delta_min.value * 1e-9) ** 3\n",
    "    f_core_inorganic = 1 - f_core_water\n",
    "    sigma_core = f_core_water * sigma_water + f_core_inorganic * sigma_inorganic.value * 1e-3\n",
    "    sigma_shell = sigma_organic.value * 1e-3\n",
    "    # calculate overall sigma\n",
    "    sigma = (1 - c_beta) * sigma_core + c_beta * sigma_shell                                    \n",
    "    A = (4* sigma * mv)/(R * T * rho_w)\n",
    "    kappa_final = (1 - frac_org.value) * kappa_inorganic.value + frac_org.value * kappa_organic.value\n",
    "    return ((D ** 3 - ((d_0.value) * 1e-9) ** 3)/(D ** 3 - (1-kappa_final) * ((d_0.value) * 1e-9) ** 3)) * np.exp(A/D)"
   ]
  },
  {
   "cell_type": "code",
   "execution_count": 34,
   "metadata": {},
   "outputs": [
    {
     "data": {
      "image/png": "[encoded data removed]",
      "text/plain": [
       "<Figure size 432x288 with 1 Axes>"
      ]
     },
     "metadata": {
      "needs_background": "light"
     },
     "output_type": "display_data"
    }
   ],
   "source": [
    "plt.plot(D, (S_varying_sigma(D)-1)*100)\n",
    "plt.savefig('varying_sigma.png')"
   ]
  },
  {
   "cell_type": "code",
   "execution_count": null,
   "metadata": {},
   "outputs": [],
   "source": []
  }
 ],
 "metadata": {
  "kernelspec": {
   "display_name": "Python 3.9.7 ('base': conda)",
   "language": "python",
   "name": "python3"
  },
  "language_info": {
   "codemirror_mode": {
    "name": "ipython",
    "version": 3
   },
   "file_extension": ".py",
   "mimetype": "text/x-python",
   "name": "python",
   "nbconvert_exporter": "python",
   "pygments_lexer": "ipython3",
   "version": "3.9.7"
  },
  "orig_nbformat": 4,
  "vscode": {
   "interpreter": {
    "hash": "016567e00e1917e3311eb648fa0f4418732f68f0653f269a203fb620fea407f6"
   }
  }
 },
 "nbformat": 4,
 "nbformat_minor": 2
}
