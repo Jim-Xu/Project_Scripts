{
 "cells": [
  {
   "cell_type": "code",
   "execution_count": 57,
   "metadata": {},
   "outputs": [],
   "source": [
    "import matplotlib.pyplot as plt\n",
    "import numpy as np\n",
    "import pandas as pd\n",
    "import ipywidgets as widgets\n",
    "from ipywidgets import interact, FloatSlider\n",
    "from IPython.display import display"
   ]
  },
  {
   "cell_type": "code",
   "execution_count": 58,
   "metadata": {},
   "outputs": [],
   "source": [
    "R = 8.314 #J⋅K−1⋅mol−1\n",
    "sigma_water = 72* 1e-3 # N m-1\n",
    "mv = 18 * 1e-3 # Kg mol-1\n",
    "rho_w = 1000 # Kg m-3\n",
    "# D = np.linspace(0.05*1e-6, 0.65 * 1e-6, 100 ) # m, wet diameter 5e-8, "
   ]
  },
  {
   "cell_type": "code",
   "execution_count": 59,
   "metadata": {},
   "outputs": [
    {
     "data": {
      "application/vnd.jupyter.widget-view+json": {
       "model_id": "6add882eb89f41c4808940f68d143585",
       "version_major": 2,
       "version_minor": 0
      },
      "text/plain": [
       "FloatSlider(value=288.15, description='Temperature', max=300.0, min=250.0, step=0.01)"
      ]
     },
     "metadata": {},
     "output_type": "display_data"
    },
    {
     "data": {
      "application/vnd.jupyter.widget-view+json": {
       "model_id": "3e3401e2d1094c0cae0d21833b8e4f38",
       "version_major": 2,
       "version_minor": 0
      },
      "text/plain": [
       "IntRangeSlider(value=(5, 65), description='Wet Diameter', min=1)"
      ]
     },
     "metadata": {},
     "output_type": "display_data"
    },
    {
     "data": {
      "application/vnd.jupyter.widget-view+json": {
       "model_id": "7a48cde697d44638867b1ae4e44169dd",
       "version_major": 2,
       "version_minor": 0
      },
      "text/plain": [
       "FloatSlider(value=41.0, description='dry diameter', max=200.0, min=40.0, step=1.0)"
      ]
     },
     "metadata": {},
     "output_type": "display_data"
    },
    {
     "data": {
      "application/vnd.jupyter.widget-view+json": {
       "model_id": "177b8da4f2c649478833876f5df581a6",
       "version_major": 2,
       "version_minor": 0
      },
      "text/plain": [
       "FloatSlider(value=0.5, description='organic fraction', max=1.0, step=0.01)"
      ]
     },
     "metadata": {},
     "output_type": "display_data"
    },
    {
     "data": {
      "application/vnd.jupyter.widget-view+json": {
       "model_id": "fe7e7798099245fc968d1327b0a37354",
       "version_major": 2,
       "version_minor": 0
      },
      "text/plain": [
       "FloatSlider(value=0.16, description='delta_min', max=0.3, min=0.1, step=0.01)"
      ]
     },
     "metadata": {},
     "output_type": "display_data"
    },
    {
     "data": {
      "application/vnd.jupyter.widget-view+json": {
       "model_id": "a45f2fe42e364a44a0f933ca7098d97b",
       "version_major": 2,
       "version_minor": 0
      },
      "text/plain": [
       "Dropdown(description='sigma_inorganic:', options=(('AS', 228), ('H2SO4', 49)), value=228)"
      ]
     },
     "metadata": {},
     "output_type": "display_data"
    },
    {
     "data": {
      "application/vnd.jupyter.widget-view+json": {
       "model_id": "076e4d038e96451bb9763e559d257861",
       "version_major": 2,
       "version_minor": 0
      },
      "text/plain": [
       "Dropdown(description='kappa_inorganic', options=(('AS', 0.58), ('H2SO4', 0.7)), value=0.58)"
      ]
     },
     "metadata": {},
     "output_type": "display_data"
    },
    {
     "data": {
      "application/vnd.jupyter.widget-view+json": {
       "model_id": "a62651d064b34a9bb99f64e1df04fa86",
       "version_major": 2,
       "version_minor": 0
      },
      "text/plain": [
       "Dropdown(description='sigma_organic', options=(('system2', 30),), value=30)"
      ]
     },
     "metadata": {},
     "output_type": "display_data"
    },
    {
     "data": {
      "application/vnd.jupyter.widget-view+json": {
       "model_id": "8003782ee7ab4a189a0fc0470d9d61ce",
       "version_major": 2,
       "version_minor": 0
      },
      "text/plain": [
       "Dropdown(description='kappa_organic', options=(('system2', 0.01),), value=0.01)"
      ]
     },
     "metadata": {},
     "output_type": "display_data"
    }
   ],
   "source": [
    "T = widgets.FloatSlider(min=250, max=300, step=0.01, value=288.15, description = 'Temperature') # K\n",
    "D= widgets.IntRangeSlider(min=1, max = 100, value = [5, 65], description = 'Wet Diameter') # need time 1e-8\n",
    "d_0 = widgets.FloatSlider(min=40, max=200, step=1, value=41,description='dry diameter') # nm\n",
    "frac_org = widgets.FloatSlider(min=0, max=1, step=0.01, value=0.5, description='organic fraction') \n",
    "delta_min = widgets.FloatSlider(min=0.1, max=0.3, step=0.01, value=0.16, description='delta_min') # nm\n",
    "sigma_inorganic = widgets.Dropdown(options=[('AS', 228), ('H2SO4', 49)], description='sigma_inorganic:') # mN/m\n",
    "kappa_inorganic = widgets.Dropdown(options= [('AS', 0.58), ('H2SO4', 0.7)], description='kappa_inorganic')\n",
    "sigma_organic= widgets.Dropdown(options= [('system2', 30)], description='sigma_organic') # mN/m\n",
    "kappa_organic= widgets.Dropdown(options= [('system2', 0.01)], description='kappa_organic')\n",
    "\n",
    "display(T, D, d_0, frac_org, delta_min, sigma_inorganic, kappa_inorganic, sigma_organic, kappa_organic)"
   ]
  },
  {
   "cell_type": "code",
   "execution_count": 60,
   "metadata": {},
   "outputs": [],
   "source": [
    "Dw = np.linspace(D.value[0]*1e-8, D.value[1]*1e-8,100)\n",
    "\n",
    "def S_const_sigma(Dw):\n",
    "    A_cs = (4 * sigma_water * mv)/(R * T.value * rho_w)\n",
    "    kappa_cs = (1 - frac_org.value) * kappa_inorganic.value + frac_org.value * kappa_organic.value\n",
    "    return (Dw ** 3 - ((d_0.value)*1e-9)**3)/(Dw ** 3 - (1-kappa_cs)*((d_0.value)*1e-9)**3)*np.exp(A_cs/Dw )\n",
    "\n",
    "def S_varying_sigma(Dw):\n",
    "    v_wet = (np.pi * Dw **3)/6\n",
    "    v_dry = (np.pi * ((d_0.value)*1e-9)**3)/6\n",
    "    # calculate the minimum shell volume, v_delta\n",
    "    v_delta = v_wet - (((4 * np.pi) / 3) * (Dw /2 - delta_min.value * 1e-9) ** 3)\n",
    "    # calculate the total volume of organic, v_beta\n",
    "    v_beta = frac_org.value * v_dry                                                               \n",
    "    # calculate the coverage parameter\n",
    "    c_beta = np.minimum(v_beta / v_delta, 1)                                                   \n",
    "    f_core_water = ((Dw - 2 * delta_min.value * 1e-9) ** 3 - ((d_0.value) * 1e-9) ** 3)/(Dw - 2 * delta_min.value * 1e-9) ** 3\n",
    "    f_core_inorganic = 1 - f_core_water\n",
    "    sigma_core = f_core_water * sigma_water + f_core_inorganic * sigma_inorganic.value * 1e-3\n",
    "    sigma_shell = sigma_organic.value * 1e-3\n",
    "    # calculate overall sigma\n",
    "    sigma = (1 - c_beta) * sigma_core + c_beta * sigma_shell                                    \n",
    "    A = (4* sigma * mv)/(R * T.value * rho_w)\n",
    "    kappa_final = (1 - frac_org.value) * kappa_inorganic.value + frac_org.value * kappa_organic.value\n",
    "    return ((Dw ** 3 - ((d_0.value) * 1e-9) ** 3)/(Dw ** 3 - (1-kappa_final) * ((d_0.value) * 1e-9) ** 3)) * np.exp(A/Dw )"
   ]
  },
  {
   "cell_type": "code",
   "execution_count": 61,
   "metadata": {},
   "outputs": [
    {
     "data": {
      "image/png": "[encoded data removed]",
      "text/plain": [
       "<Figure size 432x288 with 1 Axes>"
      ]
     },
     "metadata": {
      "needs_background": "light"
     },
     "output_type": "display_data"
    }
   ],
   "source": [
    "plt.plot(Dw, (S_const_sigma(Dw)-1)*100, 'g--', label='constant $\\sigma$')\n",
    "plt.plot(Dw, (S_varying_sigma(Dw)-1)*100, 'r-', label='varying $\\sigma$')\n",
    "plt.xlim(0, 6e-7)\n",
    "plt.ylim(-0.2, 1)\n",
    "plt.xlabel(\"particle diameter ($ m$)\")\n",
    "plt.ylabel(\"supersaturation ($\\%$)\")\n",
    "plt.legend()\n",
    "\n",
    "plt.savefig('varying_sigma.png')\n"
   ]
  },
  {
   "cell_type": "code",
   "execution_count": null,
   "metadata": {},
   "outputs": [],
   "source": []
  }
 ],
 "metadata": {
  "kernelspec": {
   "display_name": "Python 3.9.7 ('base': conda)",
   "language": "python",
   "name": "python3"
  },
  "language_info": {
   "codemirror_mode": {
    "name": "ipython",
    "version": 3
   },
   "file_extension": ".py",
   "mimetype": "text/x-python",
   "name": "python",
   "nbconvert_exporter": "python",
   "pygments_lexer": "ipython3",
   "version": "3.9.7"
  },
  "orig_nbformat": 4,
  "vscode": {
   "interpreter": {
    "hash": "016567e00e1917e3311eb648fa0f4418732f68f0653f269a203fb620fea407f6"
   }
  }
 },
 "nbformat": 4,
 "nbformat_minor": 2
}
