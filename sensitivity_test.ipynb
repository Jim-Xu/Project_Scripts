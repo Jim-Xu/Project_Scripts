{
 "cells": [
  {
   "cell_type": "code",
   "execution_count": 12,
   "metadata": {},
   "outputs": [],
   "source": [
    "import matplotlib.pyplot as plt\n",
    "import numpy as np\n",
    "import pandas as pd\n",
    "import ipywidgets as widgets\n",
    "from ipywidgets import interact, FloatSlider\n",
    "from IPython.display import display"
   ]
  },
  {
   "cell_type": "code",
   "execution_count": 13,
   "metadata": {},
   "outputs": [],
   "source": [
    "R = 8.314 #J⋅K−1⋅mol−1\n",
    "sigma_water = 72* 1e-3 # N m-1\n",
    "mv = 18 * 1e-3 # Kg mol-1\n",
    "rho_w = 1000 # Kg m-3"
   ]
  },
  {
   "cell_type": "code",
   "execution_count": 14,
   "metadata": {},
   "outputs": [
    {
     "data": {
      "application/vnd.jupyter.widget-view+json": {
       "model_id": "0392a3b7be33465fa8ecd7657139b699",
       "version_major": 2,
       "version_minor": 0
      },
      "text/plain": [
       "FloatSlider(value=288.15, description='Temperature', max=300.0, min=250.0, step=0.01)"
      ]
     },
     "metadata": {},
     "output_type": "display_data"
    },
    {
     "data": {
      "application/vnd.jupyter.widget-view+json": {
       "model_id": "8c42b57aa54d4f5d9755a681797aaf5e",
       "version_major": 2,
       "version_minor": 0
      },
      "text/plain": [
       "IntRangeSlider(value=(5, 65), description='Wet Diameter', min=1)"
      ]
     },
     "metadata": {},
     "output_type": "display_data"
    },
    {
     "data": {
      "application/vnd.jupyter.widget-view+json": {
       "model_id": "c7ff35f711c245b58ded460079bff6bf",
       "version_major": 2,
       "version_minor": 0
      },
      "text/plain": [
       "FloatSlider(value=41.0, description='dry diameter', max=200.0, min=40.0, step=1.0)"
      ]
     },
     "metadata": {},
     "output_type": "display_data"
    },
    {
     "data": {
      "application/vnd.jupyter.widget-view+json": {
       "model_id": "2abd5cece1264bd68f0480cc95163275",
       "version_major": 2,
       "version_minor": 0
      },
      "text/plain": [
       "FloatSlider(value=0.5, description='organic fraction', max=1.0, step=0.01)"
      ]
     },
     "metadata": {},
     "output_type": "display_data"
    },
    {
     "data": {
      "application/vnd.jupyter.widget-view+json": {
       "model_id": "0d0556d7c6c74a9d9a1b6d4a7cbf3bfa",
       "version_major": 2,
       "version_minor": 0
      },
      "text/plain": [
       "FloatSlider(value=0.16, description='delta_min', max=0.3, min=0.1, step=0.01)"
      ]
     },
     "metadata": {},
     "output_type": "display_data"
    },
    {
     "data": {
      "application/vnd.jupyter.widget-view+json": {
       "model_id": "97ac993815bb4e4798a240e9f41fb856",
       "version_major": 2,
       "version_minor": 0
      },
      "text/plain": [
       "Dropdown(description='sigma_inorganic:', options=(('AS', 50), ('H2SO4', 49)), value=50)"
      ]
     },
     "metadata": {},
     "output_type": "display_data"
    },
    {
     "data": {
      "application/vnd.jupyter.widget-view+json": {
       "model_id": "b98c84d1627c4b788f2743beb6e77794",
       "version_major": 2,
       "version_minor": 0
      },
      "text/plain": [
       "Dropdown(description='kappa_inorganic', options=(('AS', 0.58), ('H2SO4', 0.7)), value=0.58)"
      ]
     },
     "metadata": {},
     "output_type": "display_data"
    },
    {
     "data": {
      "application/vnd.jupyter.widget-view+json": {
       "model_id": "857b7029aea5479bb8f57e3695066acf",
       "version_major": 2,
       "version_minor": 0
      },
      "text/plain": [
       "Dropdown(description='sigma_organic', options=(('system2', 30),), value=30)"
      ]
     },
     "metadata": {},
     "output_type": "display_data"
    },
    {
     "data": {
      "application/vnd.jupyter.widget-view+json": {
       "model_id": "3038d6cf2b0c4d9e979fb1c8ac87233e",
       "version_major": 2,
       "version_minor": 0
      },
      "text/plain": [
       "FloatSlider(value=0.01, description='kappa_inorganic', max=1.0, step=0.005)"
      ]
     },
     "metadata": {},
     "output_type": "display_data"
    }
   ],
   "source": [
    "T = widgets.FloatSlider(min=250, max=300, step=0.01, value=288.15, description = 'Temperature') # K\n",
    "D= widgets.IntRangeSlider(min=1, max = 100, value = [5, 65], description = 'Wet Diameter') # need time 1e-8\n",
    "d_0 = widgets.FloatSlider(min=40, max=200, step=1, value=41,description='dry diameter') # nm\n",
    "frac_org = widgets.FloatSlider(min=0, max=1, step=0.01, value=0.5, description='organic fraction') \n",
    "delta_min = widgets.FloatSlider(min=0.1, max=0.3, step=0.01, value=0.16, description='delta_min') # nm\n",
    "sigma_inorganic = widgets.Dropdown(options=[('AS', 50), ('H2SO4', 49)], description='sigma_inorganic:') # mN/m\n",
    "kappa_inorganic = widgets.Dropdown(options= [('AS', 0.58), ('H2SO4', 0.7)], description='kappa_inorganic')\n",
    "sigma_organic = widgets.Dropdown(options= [('system2', 30)], description='sigma_organic') # mN/m\n",
    "# kappa_organic = widgets.Dropdown(options= [('system2', 0.01)], description='kappa_organic')\n",
    "kappa_organic = widgets.FloatSlider(min=0, max=1, step=0.005, value=0.01, description='kappa_inorganic')\n",
    "\n",
    "display(T, D, d_0, frac_org, delta_min, sigma_inorganic, kappa_inorganic, sigma_organic, kappa_organic)"
   ]
  },
  {
   "cell_type": "code",
   "execution_count": 27,
   "metadata": {},
   "outputs": [],
   "source": [
    "Dw = np.linspace(D.value[0]*1e-8, D.value[1]*1e-8,100)\n",
    "\n",
    "def S_const_sigma(Dw):\n",
    "    A_cs = (4 * sigma_water * mv)/(R * T.value * rho_w)\n",
    "    kappa_cs = (1 - frac_org.value) * kappa_inorganic.value + frac_org.value * kappa_organic.value\n",
    "    ss_cs = (Dw ** 3 - ((d_0.value)*1e-9)**3)/(Dw ** 3 - (1-kappa_cs)*((d_0.value)*1e-9)**3)*np.exp(A_cs/Dw)\n",
    "    return ss_cs\n",
    "ss_cs = S_const_sigma(Dw)\n",
    "\n",
    "def S_varying_sigma(Dw):\n",
    "    v_wet = (np.pi * Dw **3)/6\n",
    "    v_dry = (np.pi * ((d_0.value)*1e-9)**3)/6\n",
    "    # calculate the minimum shell volume, v_delta\n",
    "    v_delta = v_wet - (((4 * np.pi) / 3) * (Dw /2 - delta_min.value * 1e-9) ** 3)\n",
    "    # calculate the total volume of organic, v_beta\n",
    "    v_beta = frac_org.value * v_dry                                                               \n",
    "    # calculate the coverage parameter\n",
    "    c_beta = np.minimum(v_beta / v_delta, 1)                                                   \n",
    "    f_core_water = ((Dw - 2 * delta_min.value * 1e-9) ** 3 - ((d_0.value) * 1e-9) ** 3)/(Dw - 2 * delta_min.value * 1e-9) ** 3\n",
    "    f_core_inorganic = 1 - f_core_water\n",
    "    sigma_core = f_core_water * sigma_water + f_core_inorganic * sigma_inorganic.value * 1e-3\n",
    "    sigma_shell = sigma_organic.value * 1e-3\n",
    "    # calculate overall sigma\n",
    "    sigma = (1 - c_beta) * sigma_core + c_beta * sigma_shell                                    \n",
    "    A_vs = (4* sigma * mv)/(R * T.value * rho_w)\n",
    "    kappa_vs = (1 - frac_org.value) * kappa_inorganic.value + frac_org.value * kappa_organic.value\n",
    "    ss_vs = ((Dw ** 3 - ((d_0.value) * 1e-9) ** 3)/(Dw ** 3 - (1-kappa_vs) * ((d_0.value) * 1e-9) ** 3)) * np.exp(A_vs/Dw)\n",
    "    return c_beta, sigma, ss_vs\n",
    "\n",
    "c_beta, sigma, ss_vs = S_varying_sigma(Dw)"
   ]
  },
  {
   "cell_type": "code",
   "execution_count": 54,
   "metadata": {},
   "outputs": [
    {
     "data": {
      "text/plain": [
       "Text(0, 0.5, 'surface coverage')"
      ]
     },
     "execution_count": 54,
     "metadata": {},
     "output_type": "execute_result"
    },
    {
     "data": {
      "image/png": "[encoded data removed]",
      "text/plain": [
       "<Figure size 432x864 with 3 Axes>"
      ]
     },
     "metadata": {
      "needs_background": "light"
     },
     "output_type": "display_data"
    }
   ],
   "source": [
    "fig, (ax1, ax2) = plt.subplots(2, 1, figsize=(6, 12))\n",
    "\n",
    "ax1.plot(Dw, (ss_cs-1)*100, 'g--', label = 'constant $\\sigma$')\n",
    "ax1.plot(Dw, (ss_vs-1)*100, 'b-', label = 'varying $\\sigma$')\n",
    "ax1.set_xlim(0, 6e-7)\n",
    "ax1.set_ylim(-0.2, 1)\n",
    "ax1.legend()\n",
    "\n",
    "ax2.plot(Dw, sigma*1000, 'b-')\n",
    "ax2.axhline(y=72, color= 'green', linestyle='--')\n",
    "ax2.set_xlabel('particle diameter')\n",
    "ax2.set_ylabel('$\\sigma (mN/m^{-1})$')\n",
    "ax2.set_xlim(0, 6e-7)\n",
    "ax2.set_ylim(20,80)\n",
    "\n",
    "ax3 = ax2.twinx()\n",
    "ax3.plot(Dw, c_beta)\n",
    "ax3.set_ylim(0, 1.1)\n",
    "ax3.set_ylabel('surface coverage')\n"
   ]
  },
  {
   "cell_type": "code",
   "execution_count": null,
   "metadata": {},
   "outputs": [],
   "source": []
  }
 ],
 "metadata": {
  "kernelspec": {
   "display_name": "Python 3.9.7 ('base': conda)",
   "language": "python",
   "name": "python3"
  },
  "language_info": {
   "codemirror_mode": {
    "name": "ipython",
    "version": 3
   },
   "file_extension": ".py",
   "mimetype": "text/x-python",
   "name": "python",
   "nbconvert_exporter": "python",
   "pygments_lexer": "ipython3",
   "version": "3.9.7"
  },
  "orig_nbformat": 4,
  "vscode": {
   "interpreter": {
    "hash": "016567e00e1917e3311eb648fa0f4418732f68f0653f269a203fb620fea407f6"
   }
  }
 },
 "nbformat": 4,
 "nbformat_minor": 2
}
