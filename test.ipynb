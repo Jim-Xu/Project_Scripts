{
 "cells": [
  {
   "cell_type": "code",
   "execution_count": 1,
   "metadata": {},
   "outputs": [],
   "source": [
    "import os\n",
    "import numpy as np\n",
    "import pandas as pd\n",
    "import matplotlib.pyplot as plt\n",
    "import scipy\n",
    "from scipy import optimize"
   ]
  },
  {
   "cell_type": "code",
   "execution_count": 2,
   "metadata": {},
   "outputs": [],
   "source": [
    "aero_data = {'species' : ['SO4', 'NO3', 'Cl', 'NH4', 'MSA', 'ARO1', 'ARO2', 'ALK1', 'OLE1', 'API1', 'API2', 'LIM1', 'LIM2', 'CO3', 'Na', 'Ca ', 'OIN', 'OC', 'BC', 'H2O'],\n",
    "             'density' : [1800, 1800, 2200, 1800, 1800, 1400, 1400, 1400, 1400, 1400, 1400, 1400, 1400, 2600, 2200, 2600, 2600, 1000, 1800, 1000], #kg/m3\n",
    "             'ions' : [0, 0, 0, 0, 0, 0, 0, 0, 0, 0, 0, 0, 0, 0, 0, 0, 0, 0, 0, 0],\n",
    "             'molec_weight' : [96e-3, 62e-3, 35.5e-3, 18e-3, 95e-3, 150e-3,150e-3, 140e-3, 140e-3, 184e-3, 184e-3, 200e-3, 200e-3, 60e-3, 23e-3, 40e-3, 1e-3, 1e-3, 1e-3, 18e-3], # kg/mole\n",
    "             'kappa' : [0.65, 0.65, 0.53, 0.65, 0.53, 0.1, 0.1, 0.1, 0.1, 0.1, 0.1, 0.1, 0.1, 0.53, 0.53, 0.53, 0.1, 0.001, 0, 0]}\n",
    "aero_file=pd.DataFrame(aero_data)\n",
    "\n",
    "species = aero_file['species']\n",
    "density = aero_file['density']\n",
    "ions = aero_file['ions']\n",
    "molec_weight = aero_file['molec_weight']\n",
    "kappa = aero_file['kappa']"
   ]
  },
  {
   "cell_type": "code",
   "execution_count": 3,
   "metadata": {},
   "outputs": [],
   "source": [
    "sgm_w = 72 * 1e-3 # N m-1\n",
    "sgm_org = 40 * 1e-3 # N m-1\n",
    "delta_min = 0.1 * 1e-9 # m \n",
    "Rv = 461  # J K-1 Kg-1\n",
    "temp = 298 # K\n",
    "rho_w = 1000   # Kg m-3\n",
    "mw = 18 * 1e-3 # Kg mol-1\n",
    "\n",
    "Rv = 8.314/mw  # J K-1 kg-1\n",
    "R = 8.314\n",
    "a = (4*mw)/(R*temp*rho_w)"
   ]
  },
  {
   "cell_type": "code",
   "execution_count": 4,
   "metadata": {},
   "outputs": [],
   "source": [
    "time = '13' \n",
    "df = pd.read_csv('/data/keeling/a/xx24/d/partmc/scenarios/1_urban_plume/do_coagulation/single_particle_000000'+time+'.csv', sep='\\s+', header=None)\n",
    "df = df.set_index(0)\n",
    "data = df.T \n",
    "f = pd.DataFrame(data).reset_index(drop=True)"
   ]
  },
  {
   "cell_type": "code",
   "execution_count": 5,
   "metadata": {},
   "outputs": [],
   "source": [
    "dry_diameters = f.dry_diameters\n",
    "masses = f.masses \n",
    "dry_masses = f.dry_masses \n",
    "bc_masses = f.bc_masses \n",
    "oc_masses = f.oc_masses \n",
    "so4_masses = f.so4_masses \n",
    "no3_masses = f.no3_masses \n",
    "nh4_masses = f.nh4_masses \n",
    "soa_masses = f.soa_masses \n",
    "cl_masses = f.cl_masses \n",
    "msa_masses = f.msa_masses \n",
    "aro1_masses = f.aro1_masses \n",
    "aro2_masses = f.aro2_masses \n",
    "alk1_masses = f.alk1_masses \n",
    "ole1_masses = f.ole1_masses \n",
    "api1_masses = f.api1_masses \n",
    "api2_masses = f.api2_masses \n",
    "lim1_masses = f.lim1_masses \n",
    "lim2_masses = f.lim2_masses \n",
    "co3_masses = f.co3_masses \n",
    "na_masses = f.na_masses \n",
    "ca_masses = f.ca_masses \n",
    "oin_masses = f.oin_masses \n",
    "h2o_masses = f.h2o_masses \n",
    "crit_rhs = f.crit_rhs\n",
    "scs = f.scs"
   ]
  },
  {
   "cell_type": "code",
   "execution_count": 6,
   "metadata": {},
   "outputs": [],
   "source": [
    "v_SO4 = so4_masses/aero_file.iloc[0,1]\n",
    "v_NO3 = no3_masses/aero_file.iloc[1,1]\n",
    "v_Cl = cl_masses/aero_file.iloc[2,1]\n",
    "v_NH4 = nh4_masses/aero_file.iloc[3,1]\n",
    "v_MSA = msa_masses/aero_file.iloc[4,1]\n",
    "v_ARO1 = aro1_masses/aero_file.iloc[5,1]\n",
    "v_ARO2 = aro2_masses/aero_file.iloc[6,1]\n",
    "v_ALK1 = alk1_masses/aero_file.iloc[7,1]\n",
    "v_OLE1 = ole1_masses/aero_file.iloc[8,1]\n",
    "v_API1 = api1_masses/aero_file.iloc[9,1]\n",
    "v_API2 = api2_masses/aero_file.iloc[10,1]\n",
    "v_LIM1 = lim1_masses/aero_file.iloc[11,1]\n",
    "v_LIM2 = lim2_masses/aero_file.iloc[12,1]\n",
    "v_CO3 = co3_masses/aero_file.iloc[13,1]\n",
    "v_Na = na_masses/aero_file.iloc[14,1]\n",
    "v_Ca = ca_masses/aero_file.iloc[15,1]\n",
    "v_OIN = oin_masses/aero_file.iloc[16,1]\n",
    "v_OC = oc_masses/aero_file.iloc[17,1]\n",
    "v_BC = bc_masses/aero_file.iloc[18,1]\n",
    "v_H2O = h2o_masses/aero_file.iloc[19,1]\n",
    "v_total = v_SO4+v_NO3+v_Cl+v_NH4+v_MSA+v_ARO1+v_ARO2+v_ALK1+v_OLE1+v_API1+ \\\n",
    "          v_API2+v_LIM1+v_LIM2+v_CO3+v_Na+v_OIN+v_OC+v_BC+v_H2O\n",
    "kappa_single = (v_SO4 * aero_file.iloc[0,4] + v_NO3 *  aero_file.iloc[1,4] + \\\n",
    "                v_Cl * aero_file.iloc[2,4] + v_NH4 * aero_file.iloc[3,4] + \\\n",
    "                v_MSA * aero_file.iloc[4,4] + v_ARO1 * aero_file.iloc[5,4] + \\\n",
    "                v_ARO2 * aero_file.iloc[6,4] + v_ALK1 * aero_file.iloc[7,4] + \\\n",
    "                v_OLE1 * aero_file.iloc[8,4] + v_API1 * aero_file.iloc[9,4] + \\\n",
    "                v_API2 * aero_file.iloc[10,4] + v_LIM1 * aero_file.iloc[11,4] + \\\n",
    "                v_LIM2 * aero_file.iloc[12,4] + v_CO3 * aero_file.iloc[13,4] + \\\n",
    "                v_Na * aero_file.iloc[14,4] + v_Ca * aero_file.iloc[15,4] + \\\n",
    "                v_OIN * aero_file.iloc[16,4] + v_OC * aero_file.iloc[17,4] + \\\n",
    "                v_BC * aero_file.iloc[18,4] + v_H2O * aero_file.iloc[19,4] )/v_total"
   ]
  },
  {
   "cell_type": "code",
   "execution_count": 7,
   "metadata": {},
   "outputs": [],
   "source": [
    "v_dry = v_total - v_H2O\n",
    "v_wet = v_total\n",
    "v_org = v_OC+v_ARO1+v_ARO2+v_ALK1+v_OLE1+v_API1+v_API2+v_LIM1+v_LIM2\n",
    "f_org = v_org/v_dry #fraction of orgranic\n",
    "\n",
    "r_wet = ((3 * v_wet) / (4 * np.pi)) ** (1 / 3) # convert wet volume to wet radius\n",
    "v_delta = v_wet - (((4 * np.pi) / 3) * (r_wet - delta_min) ** 3) # calculate the minimum shell volume, v_delta\n",
    "v_beta = f_org * v_dry # calculate the total volume of organic, v_beta\n",
    "c_beta = np.minimum(v_beta / v_delta, 1) # calculate the coverage parameter\n",
    "sgm = (1 - c_beta) * sgm_w + c_beta * sgm_org # calculate sigma"
   ]
  },
  {
   "cell_type": "markdown",
   "metadata": {},
   "source": [
    "$crit_{rh} = exp((2 * sgm / R_v / T / \\rho_w) / r) * (r^3 - r_d^3) / (r^3 - r_d^3 * (1 - kappa))$ \\\n",
    "$r_{cr} = sqrt(3 * kappa * r_d^3 / (2 * \\sigma / R_v / T / \\rho_w))$"
   ]
  },
  {
   "cell_type": "code",
   "execution_count": 8,
   "metadata": {},
   "outputs": [
    {
     "data": {
      "text/plain": [
       "Text(0.5, 0, 'critical diameter $D_c (\\\\mu m)$')"
      ]
     },
     "execution_count": 8,
     "metadata": {},
     "output_type": "execute_result"
    },
    {
     "data": {
      "image/png": "[encoded data removed]",
      "text/plain": [
       "<Figure size 432x288 with 1 Axes>"
      ]
     },
     "metadata": {
      "needs_background": "light"
     },
     "output_type": "display_data"
    }
   ],
   "source": [
    "r_cr = np.sqrt(3 * kappa_single * (dry_diameters/2) **3 / (2 * sgm  / Rv / temp / rho_w))\n",
    "cr_rhs =  np.exp((2 * sgm / Rv / temp / rho_w) / r_cr)* (r_cr ** 3 - (dry_diameters/2)**3) / (r_cr ** 3 - (dry_diameters/2)**3 * (1 - kappa_single))\n",
    "plt.scatter(2*r_cr, (cr_rhs-1)*100, s=1.5, c='b')\n",
    "plt.xscale(\"log\")\n",
    "plt.yscale(\"log\")\n",
    "plt.ylabel(\"Critical Supersaturation $S_c (\\%)$\")\n",
    "plt.xlabel(\"critical diameter $D_c (\\mu m)$\")"
   ]
  },
  {
   "cell_type": "markdown",
   "metadata": {},
   "source": [
    "$f(D)=((D^3-D_{dry}^3\\frac{2-\\kappa}{2})^2-D_{dry}^6\\frac{\\kappa ^4}{2})+(-\\frac{3D_{dry}^3{\\kappa}}{A}D^4 )$ \\\n",
    "$f(D)=D^6-\\frac{3D_{dry}^3\\kappa}{A}D^4-D_{dry}^3(2-\\kappa)D^3+D_{dry}^6(1-\\kappa)$\n"
   ]
  },
  {
   "cell_type": "code",
   "execution_count": 9,
   "metadata": {},
   "outputs": [],
   "source": [
    "capital_A = pd.Series(np.zeros(len(dry_diameters)))\n",
    "c_1 = pd.Series(np.zeros(len(dry_diameters)))\n",
    "c_2 = pd.Series(np.zeros(len(dry_diameters)))\n",
    "c_3 = pd.Series(np.zeros(len(dry_diameters)))\n",
    "crit_diam = pd.Series(np.zeros(len(dry_diameters)))\n",
    "crit_ss = pd.Series(np.zeros(len(dry_diameters)))"
   ]
  },
  {
   "cell_type": "code",
   "execution_count": 19,
   "metadata": {},
   "outputs": [
    {
     "data": {
      "text/plain": [
       "Text(0.5, 0, 'critical diameter')"
      ]
     },
     "execution_count": 19,
     "metadata": {},
     "output_type": "execute_result"
    },
    {
     "data": {
      "image/png": "[encoded data removed]",
      "text/plain": [
       "<Figure size 432x288 with 1 Axes>"
      ]
     },
     "metadata": {
      "needs_background": "light"
     },
     "output_type": "display_data"
    }
   ],
   "source": [
    "for i in range(len(dry_diameters)):\n",
    "    capital_A[i] = a * sgm[i]\n",
    "    c_1[i] = -(3 * dry_diameters[i] ** 3 * kappa_single[i])/capital_A[i]\n",
    "    c_2[i] = -dry_diameters[i] ** 3 * (2 - kappa_single[i])\n",
    "    c_3[i] = dry_diameters[i] ** 6 * (1 - kappa_single[i])\n",
    "    func = lambda  x: x ** 6 + c_1[i] * (x ** 4) + c_2[i] * (x **3) + c_3[i]\n",
    "    df = lambda x: 6 * x ** 5 + 4 * c_1[i] * x **3 + 3 * c_2[i] * x **2 \n",
    "    ddf = lambda x: 30 * x ** 4 + 12 * c_1[i] * x **2 + 6 * c_2[i] * x\n",
    "    crit_diam[i] = scipy.optimize.brentq(func, dry_diameters[i], 1, xtol=1e-14, rtol=8.881784197001252e-16, maxiter=100, full_output=False, disp=True)\n",
    "    crit_ss[i] = ((crit_diam[i]**3 -dry_diameters[i]**3)/(crit_diam[i]**3 - (dry_diameters[i]**3 * (1-kappa_single[i]))))*np.exp(capital_A[i]/crit_diam[i])\n",
    "    # diam = np.arange(1e-7,1e-3,1e-6)\n",
    "    # plt.plot(diam,diam ** 6 - c_1[i] * (diam ** 4) - c_2[i] * (diam **3) + c_3[i])\n",
    "\n",
    "plt.scatter(crit_diam, (crit_ss-1)*100, s=1.5, c= 'r')\n",
    "# plt.scatter(dry_diameters,scs*100,s=1.5, c= 'g')\n",
    "plt.scatter(2*r_cr, (cr_rhs-1)*100, s=1.5, c='b')\n",
    "plt.xscale(\"log\")\n",
    "plt.yscale(\"log\")\n",
    "plt.ylabel(\"Critical Supersaturation $S_c $\")\n",
    "plt.xlabel(\"critical diameter\")"
   ]
  },
  {
   "cell_type": "code",
   "execution_count": 20,
   "metadata": {},
   "outputs": [
    {
     "data": {
      "text/plain": [
       "Text(0.5, 0, 'Dry Diameter')"
      ]
     },
     "execution_count": 20,
     "metadata": {},
     "output_type": "execute_result"
    },
    {
     "data": {
      "image/png": "[encoded data removed]",
      "text/plain": [
       "<Figure size 432x288 with 1 Axes>"
      ]
     },
     "metadata": {
      "needs_background": "light"
     },
     "output_type": "display_data"
    }
   ],
   "source": [
    "plt.scatter(dry_diameters, crit_diam,s=1.5, c = 'r')\n",
    "plt.scatter(dry_diameters, 2*r_cr,s=1.5, c = 'k')\n",
    "plt.xscale(\"log\")\n",
    "plt.yscale(\"log\")\n",
    "plt.ylabel(\"Critical Diameter\")\n",
    "plt.xlabel(\"Dry Diameter\")"
   ]
  },
  {
   "cell_type": "code",
   "execution_count": 12,
   "metadata": {},
   "outputs": [],
   "source": [
    "from scipy import constants as sci\n",
    "import pint\n",
    "from chempy import Substance\n",
    "si = pint.UnitRegistry()"
   ]
  },
  {
   "cell_type": "code",
   "execution_count": 13,
   "metadata": {},
   "outputs": [],
   "source": [
    "R_str = sci.R * si.joule / si.kelvin / si.mole"
   ]
  },
  {
   "cell_type": "code",
   "execution_count": 14,
   "metadata": {},
   "outputs": [],
   "source": [
    "Mv = Substance.from_formula(\"H2O\").mass * si.gram / si.mole"
   ]
  },
  {
   "cell_type": "code",
   "execution_count": 15,
   "metadata": {},
   "outputs": [
    {
     "name": "stdout",
     "output_type": "stream",
     "text": [
      "8.314462618 joule / kelvin / mole\n",
      "18.015 gram / mole\n"
     ]
    }
   ],
   "source": [
    "print(R_str)\n",
    "print(Mv)"
   ]
  },
  {
   "cell_type": "code",
   "execution_count": null,
   "metadata": {},
   "outputs": [],
   "source": []
  }
 ],
 "metadata": {
  "interpreter": {
   "hash": "016567e00e1917e3311eb648fa0f4418732f68f0653f269a203fb620fea407f6"
  },
  "kernelspec": {
   "display_name": "Python 3.9.7 ('base': conda)",
   "language": "python",
   "name": "python3"
  },
  "language_info": {
   "codemirror_mode": {
    "name": "ipython",
    "version": 3
   },
   "file_extension": ".py",
   "mimetype": "text/x-python",
   "name": "python",
   "nbconvert_exporter": "python",
   "pygments_lexer": "ipython3",
   "version": "3.9.7"
  },
  "orig_nbformat": 4
 },
 "nbformat": 4,
 "nbformat_minor": 2
}
